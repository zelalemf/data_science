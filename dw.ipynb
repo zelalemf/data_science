{
 "cells": [
  {
   "cell_type": "code",
   "execution_count": 79,
   "metadata": {
    "init_cell": true
   },
   "outputs": [],
   "source": [
    "%logstop\n",
    "%logstart -rtq ~/.logs/dw.py append\n",
    "import seaborn as sns\n",
    "sns.set()"
   ]
  },
  {
   "cell_type": "code",
   "execution_count": null,
   "metadata": {},
   "outputs": [],
   "source": [
    "from static_grader import grader"
   ]
  },
  {
   "cell_type": "markdown",
   "metadata": {},
   "source": [
    "# DW Miniproject\n",
    "## Introduction\n",
    "\n",
    "The objective of this miniproject is to exercise your ability to wrangle tabular data set and aggregate large data sets into meaningful summary statistics. We'll work with the same medical data used in the `pw` miniproject but leverage the power of Pandas to more efficiently represent and act on our data."
   ]
  },
  {
   "cell_type": "markdown",
   "metadata": {
    "heading_collapsed": true
   },
   "source": [
    "## Downloading the data\n",
    "\n",
    "We first need to download the data we'll be using from Amazon S3:"
   ]
  },
  {
   "cell_type": "code",
   "execution_count": 2,
   "metadata": {
    "hidden": true
   },
   "outputs": [
    {
     "name": "stdout",
     "output_type": "stream",
     "text": [
      "--2021-05-16 18:28:00--  http://dataincubator-wqu.s3.amazonaws.com/dwdata/201701scripts_sample.csv.gz\n",
      "Resolving dataincubator-wqu.s3.amazonaws.com (dataincubator-wqu.s3.amazonaws.com)... 52.216.226.144\n",
      "Connecting to dataincubator-wqu.s3.amazonaws.com (dataincubator-wqu.s3.amazonaws.com)|52.216.226.144|:80... connected.\n",
      "HTTP request sent, awaiting response... 200 OK\n",
      "Length: 19011654 (18M) [text/csv]\n",
      "Saving to: ‘./dw-data/201701scripts_sample.csv.gz’\n",
      "\n",
      "201701scripts_sampl 100%[===================>]  18.13M  73.9MB/s    in 0.2s    \n",
      "\n",
      "2021-05-16 18:28:01 (73.9 MB/s) - ‘./dw-data/201701scripts_sample.csv.gz’ saved [19011654/19011654]\n",
      "\n",
      "--2021-05-16 18:28:02--  http://dataincubator-wqu.s3.amazonaws.com/dwdata/201606scripts_sample.csv.gz\n",
      "Resolving dataincubator-wqu.s3.amazonaws.com (dataincubator-wqu.s3.amazonaws.com)... 52.217.37.20\n",
      "Connecting to dataincubator-wqu.s3.amazonaws.com (dataincubator-wqu.s3.amazonaws.com)|52.217.37.20|:80... connected.\n",
      "HTTP request sent, awaiting response... 200 OK\n",
      "Length: 18768259 (18M) [text/csv]\n",
      "Saving to: ‘./dw-data/201606scripts_sample.csv.gz’\n",
      "\n",
      "201606scripts_sampl 100%[===================>]  17.90M   102MB/s    in 0.2s    \n",
      "\n",
      "2021-05-16 18:28:02 (102 MB/s) - ‘./dw-data/201606scripts_sample.csv.gz’ saved [18768259/18768259]\n",
      "\n",
      "--2021-05-16 18:28:02--  http://dataincubator-wqu.s3.amazonaws.com/dwdata/practices.csv.gz\n",
      "Resolving dataincubator-wqu.s3.amazonaws.com (dataincubator-wqu.s3.amazonaws.com)... 52.216.226.144\n",
      "Connecting to dataincubator-wqu.s3.amazonaws.com (dataincubator-wqu.s3.amazonaws.com)|52.216.226.144|:80... connected.\n",
      "HTTP request sent, awaiting response... 200 OK\n",
      "Length: 333225 (325K) [application/x-gzip]\n",
      "Saving to: ‘./dw-data/practices.csv.gz’\n",
      "\n",
      "practices.csv.gz    100%[===================>] 325.42K  --.-KB/s    in 0.04s   \n",
      "\n",
      "2021-05-16 18:28:03 (8.90 MB/s) - ‘./dw-data/practices.csv.gz’ saved [333225/333225]\n",
      "\n",
      "--2021-05-16 18:28:03--  http://dataincubator-wqu.s3.amazonaws.com/dwdata/chem.csv.gz\n",
      "Resolving dataincubator-wqu.s3.amazonaws.com (dataincubator-wqu.s3.amazonaws.com)... 52.216.226.144\n",
      "Connecting to dataincubator-wqu.s3.amazonaws.com (dataincubator-wqu.s3.amazonaws.com)|52.216.226.144|:80... connected.\n",
      "HTTP request sent, awaiting response... 200 OK\n",
      "Length: 31829 (31K) [application/x-gzip]\n",
      "Saving to: ‘./dw-data/chem.csv.gz’\n",
      "\n",
      "chem.csv.gz         100%[===================>]  31.08K  --.-KB/s    in 0.009s  \n",
      "\n",
      "2021-05-16 18:28:03 (3.44 MB/s) - ‘./dw-data/chem.csv.gz’ saved [31829/31829]\n",
      "\n"
     ]
    }
   ],
   "source": [
    "!mkdir dw-data\n",
    "!wget http://dataincubator-wqu.s3.amazonaws.com/dwdata/201701scripts_sample.csv.gz -nc -P ./dw-data/\n",
    "!wget http://dataincubator-wqu.s3.amazonaws.com/dwdata/201606scripts_sample.csv.gz -nc -P ./dw-data/\n",
    "!wget http://dataincubator-wqu.s3.amazonaws.com/dwdata/practices.csv.gz -nc -P ./dw-data/\n",
    "!wget http://dataincubator-wqu.s3.amazonaws.com/dwdata/chem.csv.gz -nc -P ./dw-data/"
   ]
  },
  {
   "cell_type": "markdown",
   "metadata": {},
   "source": [
    "## Loading the data\n",
    "\n",
    "Similar to the `pw` miniproject, the first step is to read in the data. The data files are stored as compressed CSV files. You can load the data into a pandas `DataFrame` by making use of the `pd.read_csv` function to parse the data into a `DataFrame`. You may want to check the pandas documentation for parsing [CSV](http://pandas.pydata.org/pandas-docs/stable/generated/pandas.read_csv.html) files for reference.\n",
    "\n",
    "For a description of the data set please, refer to the [`pw` miniproject](./pw.ipynb). **Note that all questions make use of the 2017 data only, except for Question 5 which makes use of both the 2017 and 2016 data.**"
   ]
  },
  {
   "cell_type": "code",
   "execution_count": null,
   "metadata": {},
   "outputs": [],
   "source": [
    "import pandas as pd\n",
    "import numpy as np\n",
    "\n",
    "\n",
    "\n",
    "\n",
    "\n"
   ]
  },
  {
   "cell_type": "code",
   "execution_count": 3,
   "metadata": {},
   "outputs": [],
   "source": [
    "import pandas as pd\n",
    "import numpy as np\n"
   ]
  },
  {
   "cell_type": "code",
   "execution_count": 4,
   "metadata": {},
   "outputs": [],
   "source": [
    "# load the 2017 data\n",
    "scripts = pd.read_csv('./dw-data/201701scripts_sample.csv.gz',compression='gzip')\n",
    "#scripts.head()"
   ]
  },
  {
   "cell_type": "code",
   "execution_count": 44,
   "metadata": {},
   "outputs": [
    {
     "data": {
      "text/html": [
       "<div>\n",
       "<style scoped>\n",
       "    .dataframe tbody tr th:only-of-type {\n",
       "        vertical-align: middle;\n",
       "    }\n",
       "\n",
       "    .dataframe tbody tr th {\n",
       "        vertical-align: top;\n",
       "    }\n",
       "\n",
       "    .dataframe thead th {\n",
       "        text-align: right;\n",
       "    }\n",
       "</style>\n",
       "<table border=\"1\" class=\"dataframe\">\n",
       "  <thead>\n",
       "    <tr style=\"text-align: right;\">\n",
       "      <th></th>\n",
       "      <th>code</th>\n",
       "      <th>name</th>\n",
       "      <th>addr_1</th>\n",
       "      <th>addr_2</th>\n",
       "      <th>borough</th>\n",
       "      <th>village</th>\n",
       "      <th>post_code</th>\n",
       "    </tr>\n",
       "  </thead>\n",
       "  <tbody>\n",
       "    <tr>\n",
       "      <th>0</th>\n",
       "      <td>A81001</td>\n",
       "      <td>THE DENSHAM SURGERY</td>\n",
       "      <td>THE HEALTH CENTRE</td>\n",
       "      <td>LAWSON STREET</td>\n",
       "      <td>STOCKTON ON TEES</td>\n",
       "      <td>CLEVELAND</td>\n",
       "      <td>TS18 1HU</td>\n",
       "    </tr>\n",
       "    <tr>\n",
       "      <th>1</th>\n",
       "      <td>A81002</td>\n",
       "      <td>QUEENS PARK MEDICAL CENTRE</td>\n",
       "      <td>QUEENS PARK MEDICAL CTR</td>\n",
       "      <td>FARRER STREET</td>\n",
       "      <td>STOCKTON ON TEES</td>\n",
       "      <td>CLEVELAND</td>\n",
       "      <td>TS18 2AW</td>\n",
       "    </tr>\n",
       "    <tr>\n",
       "      <th>2</th>\n",
       "      <td>A81003</td>\n",
       "      <td>VICTORIA MEDICAL PRACTICE</td>\n",
       "      <td>THE HEALTH CENTRE</td>\n",
       "      <td>VICTORIA ROAD</td>\n",
       "      <td>HARTLEPOOL</td>\n",
       "      <td>CLEVELAND</td>\n",
       "      <td>TS26 8DB</td>\n",
       "    </tr>\n",
       "    <tr>\n",
       "      <th>3</th>\n",
       "      <td>A81004</td>\n",
       "      <td>WOODLANDS ROAD SURGERY</td>\n",
       "      <td>6 WOODLANDS ROAD</td>\n",
       "      <td>NaN</td>\n",
       "      <td>MIDDLESBROUGH</td>\n",
       "      <td>CLEVELAND</td>\n",
       "      <td>TS1 3BE</td>\n",
       "    </tr>\n",
       "    <tr>\n",
       "      <th>4</th>\n",
       "      <td>A81005</td>\n",
       "      <td>SPRINGWOOD SURGERY</td>\n",
       "      <td>SPRINGWOOD SURGERY</td>\n",
       "      <td>RECTORY LANE</td>\n",
       "      <td>GUISBOROUGH</td>\n",
       "      <td>NaN</td>\n",
       "      <td>TS14 7DJ</td>\n",
       "    </tr>\n",
       "  </tbody>\n",
       "</table>\n",
       "</div>"
      ],
      "text/plain": [
       "     code                        name                   addr_1         addr_2  \\\n",
       "0  A81001         THE DENSHAM SURGERY        THE HEALTH CENTRE  LAWSON STREET   \n",
       "1  A81002  QUEENS PARK MEDICAL CENTRE  QUEENS PARK MEDICAL CTR  FARRER STREET   \n",
       "2  A81003   VICTORIA MEDICAL PRACTICE        THE HEALTH CENTRE  VICTORIA ROAD   \n",
       "3  A81004      WOODLANDS ROAD SURGERY         6 WOODLANDS ROAD            NaN   \n",
       "4  A81005          SPRINGWOOD SURGERY       SPRINGWOOD SURGERY   RECTORY LANE   \n",
       "\n",
       "            borough    village post_code  \n",
       "0  STOCKTON ON TEES  CLEVELAND  TS18 1HU  \n",
       "1  STOCKTON ON TEES  CLEVELAND  TS18 2AW  \n",
       "2        HARTLEPOOL  CLEVELAND  TS26 8DB  \n",
       "3     MIDDLESBROUGH  CLEVELAND   TS1 3BE  \n",
       "4       GUISBOROUGH        NaN  TS14 7DJ  "
      ]
     },
     "execution_count": 44,
     "metadata": {},
     "output_type": "execute_result"
    }
   ],
   "source": [
    "col_names=[ 'code', 'name', 'addr_1', 'addr_2', 'borough', 'village', 'post_code']\n",
    "practices = pd.read_csv('./dw-data/practices.csv.gz',compression='gzip',names=col_names)\n",
    "\n",
    "practices.head()"
   ]
  },
  {
   "cell_type": "code",
   "execution_count": 4,
   "metadata": {},
   "outputs": [
    {
     "ename": "NameError",
     "evalue": "name 'scripts' is not defined",
     "output_type": "error",
     "traceback": [
      "\u001b[0;31m---------------------------------------------------------------------------\u001b[0m",
      "\u001b[0;31mNameError\u001b[0m                                 Traceback (most recent call last)",
      "\u001b[0;32m<ipython-input-4-4a0bca7a919f>\u001b[0m in \u001b[0;36m<module>\u001b[0;34m\u001b[0m\n\u001b[1;32m      1\u001b[0m \u001b[0;31m# scripts.rename(columns={'practice':'code'})\u001b[0m\u001b[0;34m\u001b[0m\u001b[0;34m\u001b[0m\u001b[0;34m\u001b[0m\u001b[0m\n\u001b[0;32m----> 2\u001b[0;31m \u001b[0mscripts\u001b[0m\u001b[0;34m.\u001b[0m\u001b[0mnunique\u001b[0m\u001b[0;34m(\u001b[0m\u001b[0;34m)\u001b[0m\u001b[0;34m\u001b[0m\u001b[0;34m\u001b[0m\u001b[0m\n\u001b[0m",
      "\u001b[0;31mNameError\u001b[0m: name 'scripts' is not defined"
     ]
    }
   ],
   "source": [
    "   # scripts.rename(columns={'practice':'code'})\n",
    "scripts.nunique()"
   ]
  },
  {
   "cell_type": "code",
   "execution_count": 6,
   "metadata": {},
   "outputs": [
    {
     "data": {
      "text/html": [
       "<div>\n",
       "<style scoped>\n",
       "    .dataframe tbody tr th:only-of-type {\n",
       "        vertical-align: middle;\n",
       "    }\n",
       "\n",
       "    .dataframe tbody tr th {\n",
       "        vertical-align: top;\n",
       "    }\n",
       "\n",
       "    .dataframe thead th {\n",
       "        text-align: right;\n",
       "    }\n",
       "</style>\n",
       "<table border=\"1\" class=\"dataframe\">\n",
       "  <thead>\n",
       "    <tr style=\"text-align: right;\">\n",
       "      <th></th>\n",
       "      <th>CHEM SUB</th>\n",
       "      <th>NAME</th>\n",
       "    </tr>\n",
       "  </thead>\n",
       "  <tbody>\n",
       "    <tr>\n",
       "      <th>0</th>\n",
       "      <td>0101010A0</td>\n",
       "      <td>Alexitol Sodium</td>\n",
       "    </tr>\n",
       "    <tr>\n",
       "      <th>1</th>\n",
       "      <td>0101010B0</td>\n",
       "      <td>Almasilate</td>\n",
       "    </tr>\n",
       "    <tr>\n",
       "      <th>2</th>\n",
       "      <td>0101010C0</td>\n",
       "      <td>Aluminium Hydroxide</td>\n",
       "    </tr>\n",
       "    <tr>\n",
       "      <th>3</th>\n",
       "      <td>0101010D0</td>\n",
       "      <td>Aluminium Hydroxide With Magnesium</td>\n",
       "    </tr>\n",
       "    <tr>\n",
       "      <th>4</th>\n",
       "      <td>0101010E0</td>\n",
       "      <td>Hydrotalcite</td>\n",
       "    </tr>\n",
       "  </tbody>\n",
       "</table>\n",
       "</div>"
      ],
      "text/plain": [
       "    CHEM SUB                                NAME\n",
       "0  0101010A0                     Alexitol Sodium\n",
       "1  0101010B0                          Almasilate\n",
       "2  0101010C0                 Aluminium Hydroxide\n",
       "3  0101010D0  Aluminium Hydroxide With Magnesium\n",
       "4  0101010E0                        Hydrotalcite"
      ]
     },
     "execution_count": 6,
     "metadata": {},
     "output_type": "execute_result"
    }
   ],
   "source": [
    "chem = pd.read_csv('./dw-data/chem.csv.gz')#,compression = 'gzip')\n",
    "chem.head()"
   ]
  },
  {
   "cell_type": "markdown",
   "metadata": {},
   "source": [
    "Now that we've loaded in the data, let's first replicate our results from the `pw` miniproject. Note that we are now working with a larger data set so the answers will be different than in the `pw` miniproject even if the analysis is the same."
   ]
  },
  {
   "cell_type": "markdown",
   "metadata": {
    "heading_collapsed": true
   },
   "source": [
    "## Question 1: summary_statistics\n",
    "\n",
    "In the `pw` miniproject we first calculated the total, mean, standard deviation, and quartile statistics of the `'items'`, `'quantity'`', `'nic'`, and `'act_cost'` fields. To do this we had to write some functions to calculate the statistics and apply the functions to our data structure. The DataFrame has a `describe` method that will calculate most (not all) of these things for us.\n",
    "\n",
    "Submit the summary statistics to the grader as a list of tuples: `[('act_cost', (total, mean, std, q25, median, q75)), ...]`"
   ]
  },
  {
   "cell_type": "code",
   "execution_count": 11,
   "metadata": {
    "hidden": true
   },
   "outputs": [
    {
     "name": "stdout",
     "output_type": "stream",
     "text": [
      "[('items', (8888304, 9.133135976111625, 29.204198282803603, 1.0, 2.0, 6.0)), ('quantity', (721457006, 741.3298348837282, 3665.426958467915, 28.0, 100.0, 350.0)), ('nic', (71100424.84000002, 73.05891517920908, 188.070256906825, 7.8, 22.64, 65.0)), ('act_cost', (66164096.11999999, 67.98661326170655, 174.40170332301963, 7.33, 21.22, 60.67))]\n"
     ]
    }
   ],
   "source": [
    "def summary(key):\n",
    "    total=scripts[key].sum()\n",
    "    mean = scripts[key].mean()\n",
    "    std = scripts[key].std()\n",
    "    q25,q75 = np.percentile(scripts[key], [25, 75])\n",
    "    median = scripts[key].median()\n",
    "    \n",
    "    return (total, mean, std, q25, median, q75)\n",
    "summary_stats = [('items', summary('items')),\n",
    "           ('quantity', summary('quantity')),\n",
    "           ('nic', summary('nic')),\n",
    "           ('act_cost', summary('act_cost'))]\n",
    "\n",
    "print(summary_stats)"
   ]
  },
  {
   "cell_type": "code",
   "execution_count": null,
   "metadata": {
    "hidden": true,
    "scrolled": false
   },
   "outputs": [],
   "source": []
  },
  {
   "cell_type": "code",
   "execution_count": 14,
   "metadata": {
    "hidden": true
   },
   "outputs": [],
   "source": [
    "summary_stats = [('items', (0,) * 6), ('quantity', (0,) * 6), ('nic', (0,) * 6), ('act_cost', (0,) * 6)]"
   ]
  },
  {
   "cell_type": "code",
   "execution_count": 12,
   "metadata": {
    "hidden": true
   },
   "outputs": [
    {
     "name": "stdout",
     "output_type": "stream",
     "text": [
      "==================\n",
      "Your score: 1.000\n",
      "==================\n"
     ]
    }
   ],
   "source": [
    "grader.score.dw__summary_statistics(summary_stats)"
   ]
  },
  {
   "cell_type": "markdown",
   "metadata": {
    "heading_collapsed": true
   },
   "source": [
    "## Question 2: most_common_item\n",
    "\n",
    "We can also easily compute summary statistics on groups within the data. In the `pw` miniproject we had to explicitly construct the groups based on the values of a particular field. Pandas will handle that for us via the `groupby` method. This process is [detailed in the Pandas documentation](https://pandas.pydata.org/pandas-docs/stable/groupby.html).\n",
    "\n",
    "Use `groupby` to calculate the total number of items dispensed for each `'bnf_name'`. Find the item with the highest total and return the result as `[(bnf_name, total)]`."
   ]
  },
  {
   "cell_type": "code",
   "execution_count": 35,
   "metadata": {
    "hidden": true
   },
   "outputs": [
    {
     "name": "stdout",
     "output_type": "stream",
     "text": [
      "218583 Omeprazole_Cap E/C 20mg\n"
     ]
    }
   ],
   "source": [
    "groupby_bnf_name=scripts.groupby('bnf_name')\n",
    "max_=groupby_bnf_name['items'].sum().max()\n",
    "max_bnf_name=groupby_bnf_name['items'].sum().idxmax()                          \n",
    "print(max_, max_bnf_name)                            \n",
    "                            "
   ]
  },
  {
   "cell_type": "code",
   "execution_count": 39,
   "metadata": {
    "hidden": true
   },
   "outputs": [],
   "source": [
    "def most_common_item_bnf(scripts):\n",
    "    groupby_bnf_name=scripts.groupby('bnf_name')\n",
    "    max_=groupby_bnf_name['items'].sum().max()\n",
    "    max_bnf_name=groupby_bnf_name['items'].sum().idxmax()                          \n",
    "    print(max_bnf_name,max_)\n",
    "    return (max_bnf_name,max_)\n",
    "                                \n",
    "                                \n",
    "                                "
   ]
  },
  {
   "cell_type": "code",
   "execution_count": 40,
   "metadata": {
    "hidden": true
   },
   "outputs": [
    {
     "name": "stdout",
     "output_type": "stream",
     "text": [
      "Omeprazole_Cap E/C 20mg 218583\n"
     ]
    }
   ],
   "source": [
    "most_common_item = [most_common_item_bnf(scripts)]"
   ]
  },
  {
   "cell_type": "code",
   "execution_count": 41,
   "metadata": {
    "hidden": true
   },
   "outputs": [
    {
     "name": "stdout",
     "output_type": "stream",
     "text": [
      "==================\n",
      "Your score: 1.000\n",
      "==================\n"
     ]
    }
   ],
   "source": [
    "grader.score.dw__most_common_item(most_common_item)"
   ]
  },
  {
   "cell_type": "markdown",
   "metadata": {
    "heading_collapsed": true
   },
   "source": [
    "## Question 3: items_by_region\n",
    "\n",
    "Now let's find the most common item by post code. The post code information is in the `practices` DataFrame, and we'll need to `merge` it into the `scripts` DataFrame. Pandas provides [extensive documentation](https://pandas.pydata.org/pandas-docs/stable/merging.html) with diagrammed examples on different methods and approaches for joining data. The `merge` method is only one of many possible options.\n",
    "\n",
    "Return your results as a list of tuples `(post code, item name, amount dispensed as % of total)`. Sort your results ascending alphabetically by post code and take only results from the first 100 post codes.\n",
    "\n",
    "**NOTE:** Some practices have multiple postal codes associated with them. Use the alphabetically first postal code. Note some postal codes may have multiple `'bnf_name'` with the same prescription rate for the maximum. In this case, take the alphabetically first `'bnf_name'` (as in the `pw` miniproject)."
   ]
  },
  {
   "cell_type": "code",
   "execution_count": null,
   "metadata": {
    "hidden": true
   },
   "outputs": [],
   "source": [
    "\tcode\tname\taddr_1\taddr_2\tborough\tvillage\tpost_code\n",
    "7\tA81008\tALBERT HOUSE CLINIC\tLOW GRANGE HEALTH VILLAGE\tNORMANBY ROAD\tMIDDLESBROUGH\tCLEVELAND\tTS6 6TD\n",
    "11414\tA81008\tALBERT HOUSE CLINIC\tSOUTH GRANGE MEDICAL CTR.\tTRUNK ROAD ESTON\tMIDDLESBROUGH\tCLEVELAND\tTS6 9QG"
   ]
  },
  {
   "cell_type": "code",
   "execution_count": 7,
   "metadata": {
    "hidden": true,
    "scrolled": true
   },
   "outputs": [],
   "source": [
    "#NOTE: Some practices have multiple postal codes associated with them. Use the alphabetically first postal code\n",
    "practice_new = practices.sort_values('post_code').groupby('code').first().reset_index()"
   ]
  },
  {
   "cell_type": "code",
   "execution_count": 8,
   "metadata": {
    "hidden": true
   },
   "outputs": [],
   "source": [
    "joined_data = scripts.merge(practice_new[['code','post_code']],how='left',left_on='practice',right_on='code')[['bnf_name','items','post_code']]"
   ]
  },
  {
   "cell_type": "code",
   "execution_count": 9,
   "metadata": {
    "hidden": true
   },
   "outputs": [],
   "source": [
    "itemsby_bnfby_post = joined_data.groupby(['post_code','bnf_name']).sum().reset_index()"
   ]
  },
  {
   "cell_type": "code",
   "execution_count": 59,
   "metadata": {
    "hidden": true
   },
   "outputs": [
    {
     "data": {
      "text/html": [
       "<div>\n",
       "<style scoped>\n",
       "    .dataframe tbody tr th:only-of-type {\n",
       "        vertical-align: middle;\n",
       "    }\n",
       "\n",
       "    .dataframe tbody tr th {\n",
       "        vertical-align: top;\n",
       "    }\n",
       "\n",
       "    .dataframe thead th {\n",
       "        text-align: right;\n",
       "    }\n",
       "</style>\n",
       "<table border=\"1\" class=\"dataframe\">\n",
       "  <thead>\n",
       "    <tr style=\"text-align: right;\">\n",
       "      <th></th>\n",
       "      <th>bnf_name</th>\n",
       "      <th>items</th>\n",
       "    </tr>\n",
       "    <tr>\n",
       "      <th>post_code</th>\n",
       "      <th></th>\n",
       "      <th></th>\n",
       "    </tr>\n",
       "  </thead>\n",
       "  <tbody>\n",
       "    <tr>\n",
       "      <th>B11 4BW</th>\n",
       "      <td>Salbutamol_Inha 100mcg (200 D) CFF</td>\n",
       "      <td>706</td>\n",
       "    </tr>\n",
       "    <tr>\n",
       "      <th>B12 9LP</th>\n",
       "      <td>Paracet_Tab 500mg</td>\n",
       "      <td>425</td>\n",
       "    </tr>\n",
       "    <tr>\n",
       "      <th>B18 7AL</th>\n",
       "      <td>Salbutamol_Inha 100mcg (200 D) CFF</td>\n",
       "      <td>556</td>\n",
       "    </tr>\n",
       "    <tr>\n",
       "      <th>B21 9RY</th>\n",
       "      <td>Metformin HCl_Tab 500mg</td>\n",
       "      <td>1033</td>\n",
       "    </tr>\n",
       "    <tr>\n",
       "      <th>B23 6DJ</th>\n",
       "      <td>Lansoprazole_Cap 30mg (E/C Gran)</td>\n",
       "      <td>599</td>\n",
       "    </tr>\n",
       "    <tr>\n",
       "      <th>...</th>\n",
       "      <td>...</td>\n",
       "      <td>...</td>\n",
       "    </tr>\n",
       "    <tr>\n",
       "      <th>WS3 3JP</th>\n",
       "      <td>Paracet_Tab 500mg</td>\n",
       "      <td>789</td>\n",
       "    </tr>\n",
       "    <tr>\n",
       "      <th>WS9 8AJ</th>\n",
       "      <td>Amlodipine_Tab 5mg</td>\n",
       "      <td>396</td>\n",
       "    </tr>\n",
       "    <tr>\n",
       "      <th>WV13 2DR</th>\n",
       "      <td>Salbutamol_Inha 100mcg (200 D) CFF</td>\n",
       "      <td>809</td>\n",
       "    </tr>\n",
       "    <tr>\n",
       "      <th>YO11 1UB</th>\n",
       "      <td>Omeprazole_Cap E/C 20mg</td>\n",
       "      <td>847</td>\n",
       "    </tr>\n",
       "    <tr>\n",
       "      <th>YO16 4LZ</th>\n",
       "      <td>Aspirin Disper_Tab 75mg</td>\n",
       "      <td>1194</td>\n",
       "    </tr>\n",
       "  </tbody>\n",
       "</table>\n",
       "<p>259 rows × 2 columns</p>\n",
       "</div>"
      ],
      "text/plain": [
       "                                     bnf_name  items\n",
       "post_code                                           \n",
       "B11 4BW    Salbutamol_Inha 100mcg (200 D) CFF    706\n",
       "B12 9LP                     Paracet_Tab 500mg    425\n",
       "B18 7AL    Salbutamol_Inha 100mcg (200 D) CFF    556\n",
       "B21 9RY               Metformin HCl_Tab 500mg   1033\n",
       "B23 6DJ      Lansoprazole_Cap 30mg (E/C Gran)    599\n",
       "...                                       ...    ...\n",
       "WS3 3JP                     Paracet_Tab 500mg    789\n",
       "WS9 8AJ                    Amlodipine_Tab 5mg    396\n",
       "WV13 2DR   Salbutamol_Inha 100mcg (200 D) CFF    809\n",
       "YO11 1UB              Omeprazole_Cap E/C 20mg    847\n",
       "YO16 4LZ              Aspirin Disper_Tab 75mg   1194\n",
       "\n",
       "[259 rows x 2 columns]"
      ]
     },
     "execution_count": 59,
     "metadata": {},
     "output_type": "execute_result"
    }
   ],
   "source": [
    "max_item_inpost"
   ]
  },
  {
   "cell_type": "code",
   "execution_count": 23,
   "metadata": {
    "hidden": true
   },
   "outputs": [],
   "source": [
    "max_item_inpost = itemsby_bnfby_post.sort_values('items',ascending=False).groupby('post_code').first()"
   ]
  },
  {
   "cell_type": "code",
   "execution_count": 52,
   "metadata": {
    "hidden": true
   },
   "outputs": [],
   "source": [
    "total_items_inpost = itemsby_bnfby_post.groupby('post_code')['items'].sum()"
   ]
  },
  {
   "cell_type": "code",
   "execution_count": 57,
   "metadata": {
    "hidden": true
   },
   "outputs": [],
   "source": [
    "dispenced = max_item_inpost['items']/total_items_inpost"
   ]
  },
  {
   "cell_type": "code",
   "execution_count": 75,
   "metadata": {
    "hidden": true
   },
   "outputs": [],
   "source": [
    "max_item_despencedinpost=max_item_inpost"
   ]
  },
  {
   "cell_type": "code",
   "execution_count": 78,
   "metadata": {
    "hidden": true
   },
   "outputs": [],
   "source": [
    "max_item_despencedinpost['items']=dispenced"
   ]
  },
  {
   "cell_type": "code",
   "execution_count": 101,
   "metadata": {
    "hidden": true
   },
   "outputs": [
    {
     "data": {
      "text/html": [
       "<div>\n",
       "<style scoped>\n",
       "    .dataframe tbody tr th:only-of-type {\n",
       "        vertical-align: middle;\n",
       "    }\n",
       "\n",
       "    .dataframe tbody tr th {\n",
       "        vertical-align: top;\n",
       "    }\n",
       "\n",
       "    .dataframe thead th {\n",
       "        text-align: right;\n",
       "    }\n",
       "</style>\n",
       "<table border=\"1\" class=\"dataframe\">\n",
       "  <thead>\n",
       "    <tr style=\"text-align: right;\">\n",
       "      <th></th>\n",
       "      <th>bnf_name</th>\n",
       "      <th>items</th>\n",
       "    </tr>\n",
       "    <tr>\n",
       "      <th>post_code</th>\n",
       "      <th></th>\n",
       "      <th></th>\n",
       "    </tr>\n",
       "  </thead>\n",
       "  <tbody>\n",
       "    <tr>\n",
       "      <th>B11 4BW</th>\n",
       "      <td>Salbutamol_Inha 100mcg (200 D) CFF</td>\n",
       "      <td>0.031059</td>\n",
       "    </tr>\n",
       "    <tr>\n",
       "      <th>B12 9LP</th>\n",
       "      <td>Paracet_Tab 500mg</td>\n",
       "      <td>0.024893</td>\n",
       "    </tr>\n",
       "    <tr>\n",
       "      <th>B18 7AL</th>\n",
       "      <td>Salbutamol_Inha 100mcg (200 D) CFF</td>\n",
       "      <td>0.027111</td>\n",
       "    </tr>\n",
       "    <tr>\n",
       "      <th>B21 9RY</th>\n",
       "      <td>Metformin HCl_Tab 500mg</td>\n",
       "      <td>0.033294</td>\n",
       "    </tr>\n",
       "    <tr>\n",
       "      <th>B23 6DJ</th>\n",
       "      <td>Lansoprazole_Cap 30mg (E/C Gran)</td>\n",
       "      <td>0.021384</td>\n",
       "    </tr>\n",
       "    <tr>\n",
       "      <th>...</th>\n",
       "      <td>...</td>\n",
       "      <td>...</td>\n",
       "    </tr>\n",
       "    <tr>\n",
       "      <th>WS3 3JP</th>\n",
       "      <td>Paracet_Tab 500mg</td>\n",
       "      <td>0.021388</td>\n",
       "    </tr>\n",
       "    <tr>\n",
       "      <th>WS9 8AJ</th>\n",
       "      <td>Amlodipine_Tab 5mg</td>\n",
       "      <td>0.016174</td>\n",
       "    </tr>\n",
       "    <tr>\n",
       "      <th>WV13 2DR</th>\n",
       "      <td>Salbutamol_Inha 100mcg (200 D) CFF</td>\n",
       "      <td>0.022237</td>\n",
       "    </tr>\n",
       "    <tr>\n",
       "      <th>YO11 1UB</th>\n",
       "      <td>Omeprazole_Cap E/C 20mg</td>\n",
       "      <td>0.029712</td>\n",
       "    </tr>\n",
       "    <tr>\n",
       "      <th>YO16 4LZ</th>\n",
       "      <td>Aspirin Disper_Tab 75mg</td>\n",
       "      <td>0.022174</td>\n",
       "    </tr>\n",
       "  </tbody>\n",
       "</table>\n",
       "<p>259 rows × 2 columns</p>\n",
       "</div>"
      ],
      "text/plain": [
       "                                     bnf_name     items\n",
       "post_code                                              \n",
       "B11 4BW    Salbutamol_Inha 100mcg (200 D) CFF  0.031059\n",
       "B12 9LP                     Paracet_Tab 500mg  0.024893\n",
       "B18 7AL    Salbutamol_Inha 100mcg (200 D) CFF  0.027111\n",
       "B21 9RY               Metformin HCl_Tab 500mg  0.033294\n",
       "B23 6DJ      Lansoprazole_Cap 30mg (E/C Gran)  0.021384\n",
       "...                                       ...       ...\n",
       "WS3 3JP                     Paracet_Tab 500mg  0.021388\n",
       "WS9 8AJ                    Amlodipine_Tab 5mg  0.016174\n",
       "WV13 2DR   Salbutamol_Inha 100mcg (200 D) CFF  0.022237\n",
       "YO11 1UB              Omeprazole_Cap E/C 20mg  0.029712\n",
       "YO16 4LZ              Aspirin Disper_Tab 75mg  0.022174\n",
       "\n",
       "[259 rows x 2 columns]"
      ]
     },
     "execution_count": 101,
     "metadata": {},
     "output_type": "execute_result"
    }
   ],
   "source": [
    "max_item_despencedinpost"
   ]
  },
  {
   "cell_type": "code",
   "execution_count": 122,
   "metadata": {
    "hidden": true
   },
   "outputs": [],
   "source": [
    "items_by_region = [((i[0],i[1],i[2])) for i in max_item_despencedinpost.itertuples()][:100]"
   ]
  },
  {
   "cell_type": "code",
   "execution_count": null,
   "metadata": {
    "hidden": true
   },
   "outputs": [],
   "source": []
  },
  {
   "cell_type": "code",
   "execution_count": 124,
   "metadata": {
    "hidden": true
   },
   "outputs": [
    {
     "name": "stdout",
     "output_type": "stream",
     "text": [
      "==================\n",
      "Your score: 1.000\n",
      "==================\n"
     ]
    }
   ],
   "source": [
    "grader.score.dw__items_by_region(items_by_region)"
   ]
  },
  {
   "cell_type": "markdown",
   "metadata": {},
   "source": [
    "## Question 4: script_anomalies\n",
    "\n",
    "Drug abuse is a source of human and monetary costs in health care. A first step in identifying practitioners that enable drug abuse is to look for practices where commonly abused drugs are prescribed unusually often. Let's try to find practices that prescribe an unusually high amount of opioids. The opioids we'll look for are given in the list below."
   ]
  },
  {
   "cell_type": "code",
   "execution_count": 14,
   "metadata": {},
   "outputs": [],
   "source": [
    "opioids = ['morphine', 'oxycodone', 'methadone', 'fentanyl', 'pethidine', 'buprenorphine', 'propoxyphene', 'codeine']"
   ]
  },
  {
   "cell_type": "code",
   "execution_count": 16,
   "metadata": {},
   "outputs": [
    {
     "data": {
      "text/plain": [
       "array(['0104020D0', '0104020N0', '0309010C0', '0309010N0', '0309010S0',\n",
       "       '0309020AC', '0407010F0', '0407010M0', '0407010N0', '0407010R0',\n",
       "       '0407010T0', '0407010V0', '0407020AD', '0407020AE', '0407020AF',\n",
       "       '0407020A0', '0407020B0', '0407020C0', '0407020E0', '0407020G0',\n",
       "       '0407020K0', '0407020M0', '0407020N0', '0407020P0', '0407020Q0',\n",
       "       '0407020V0', '0407020Z0', '040702010', '040702020', '0409010A0',\n",
       "       '0410030A0', '0410030C0', '0704050G0', '1501043F0', '1502010Z0'],\n",
       "      dtype=object)"
      ]
     },
     "execution_count": 16,
     "metadata": {},
     "output_type": "execute_result"
    }
   ],
   "source": [
    "opioids_code=chem[chem['NAME'].str.contains('|'.join(opioids), case=False)][\"CHEM SUB\"].unique()\n",
    "opioids_code"
   ]
  },
  {
   "cell_type": "markdown",
   "metadata": {},
   "source": [
    "These are generic names for drugs, not brand names. Generic drug names can be found using the `'bnf_code'` field in `scripts` along with the `chem` table. Use the list of opioids provided above along with these fields to make a new field in the `scripts` data that flags whether the row corresponds with a opioid prescription."
   ]
  },
  {
   "cell_type": "code",
   "execution_count": 17,
   "metadata": {},
   "outputs": [],
   "source": [
    "scripts['opioids'] = scripts['bnf_code'].isin(opioids_code)"
   ]
  },
  {
   "cell_type": "code",
   "execution_count": 103,
   "metadata": {},
   "outputs": [],
   "source": []
  },
  {
   "cell_type": "markdown",
   "metadata": {},
   "source": [
    "Now for each practice calculate the proportion of its prescriptions containing opioids.\n",
    "\n",
    "**Hint:** Consider the following list: `[0, 1, 1, 0, 0, 0]`. What proportion of the entries are 1s? What is the mean value?"
   ]
  },
  {
   "cell_type": "code",
   "execution_count": 18,
   "metadata": {},
   "outputs": [],
   "source": [
    "opioids_per_practice = scripts.groupby('practice')['opioids'].mean()\n"
   ]
  },
  {
   "cell_type": "code",
   "execution_count": 19,
   "metadata": {},
   "outputs": [
    {
     "data": {
      "text/plain": [
       "practice\n",
       "A81005    0.033179\n",
       "A81007    0.043329\n",
       "A81011    0.046556\n",
       "A81012    0.042793\n",
       "A81017    0.038140\n",
       "            ...   \n",
       "Y05570    0.090909\n",
       "Y05583    0.000000\n",
       "Y05597    0.000000\n",
       "Y05660    0.023055\n",
       "Y05670    0.000000\n",
       "Name: opioids, Length: 856, dtype: float64"
      ]
     },
     "execution_count": 19,
     "metadata": {},
     "output_type": "execute_result"
    }
   ],
   "source": [
    "opioids_per_practice"
   ]
  },
  {
   "cell_type": "markdown",
   "metadata": {},
   "source": [
    "How do these proportions compare to the overall opioid prescription rate? Subtract off the proportion of all prescriptions that are opioids from each practice's proportion."
   ]
  },
  {
   "cell_type": "code",
   "execution_count": 20,
   "metadata": {},
   "outputs": [
    {
     "data": {
      "text/plain": [
       "practice\n",
       "A81005   -0.002624\n",
       "A81007    0.007526\n",
       "A81011    0.010753\n",
       "A81012    0.006990\n",
       "A81017    0.002337\n",
       "            ...   \n",
       "Y05570    0.055106\n",
       "Y05583   -0.035803\n",
       "Y05597   -0.035803\n",
       "Y05660   -0.012748\n",
       "Y05670   -0.035803\n",
       "Name: opioids, Length: 856, dtype: float64"
      ]
     },
     "execution_count": 20,
     "metadata": {},
     "output_type": "execute_result"
    }
   ],
   "source": [
    "relative_opioids_per_practice = opioids_per_practice - scripts['opioids'].mean() \n",
    "relative_opioids_per_practice"
   ]
  },
  {
   "cell_type": "markdown",
   "metadata": {},
   "source": [
    "Now that we know the difference between each practice's opioid prescription rate and the overall rate, we can identify which practices prescribe opioids at above average or below average rates. However, are the differences from the overall rate important or just random deviations? In other words, are the differences from the overall rate big or small?\n",
    "\n",
    "To answer this question we have to quantify the difference we would typically expect between a given practice's opioid prescription rate and the overall rate. This quantity is called the **standard error**, and is related to the **standard deviation**, $\\sigma$. The standard error in this case is\n",
    "\n",
    "$$ \\frac{\\sigma}{\\sqrt{n}} $$\n",
    "\n",
    "where $n$ is the number of prescriptions each practice made. Calculate the standard error for each practice. Then divide `relative_opioids_per_practice` by the standard errors. We'll call the final result `opioid_scores`."
   ]
  },
  {
   "cell_type": "code",
   "execution_count": 22,
   "metadata": {},
   "outputs": [],
   "source": [
    "standard_error_per_practice = np.sqrt(scripts['opioids'].var()/scripts['practice'].value_counts())\n",
    "opioid_scores = relative_opioids_per_practice/standard_error_per_practice"
   ]
  },
  {
   "cell_type": "code",
   "execution_count": 23,
   "metadata": {},
   "outputs": [],
   "source": [
    "opioid_scores=pd.DataFrame(opioid_scores, columns=[ 'z-score'])"
   ]
  },
  {
   "cell_type": "markdown",
   "metadata": {},
   "source": [
    "The quantity we have calculated in `opioid_scores` is called a **z-score**:\n",
    "\n",
    "$$ \\frac{\\bar{X} - \\mu}{\\sqrt{\\sigma^2/n}} $$\n",
    "\n",
    "Here $\\bar{X}$ corresponds with the proportion for each practice, $\\mu$ corresponds with the proportion across all practices, $\\sigma^2$ corresponds with the variance of the proportion across all practices, and $n$ is the number of prescriptions made by each practice. Notice $\\bar{X}$ and $n$ will be different for each practice, while $\\mu$ and $\\sigma$ are determined across all prescriptions, and so are the same for every z-score. The z-score is a useful statistical tool used for hypothesis testing, finding outliers, and comparing data about different types of objects or events.\n",
    "\n",
    "Now that we've calculated this statistic, take the 100 practices with the largest z-score. Return your result as a list of tuples in the form `(practice_code, practice_name, z-score, number_of_scripts)`. Sort your tuples by z-score in descending order. Note that some practice codes will correspond with multiple names. In this case, use the first match when sorting names alphabetically."
   ]
  },
  {
   "cell_type": "code",
   "execution_count": 33,
   "metadata": {},
   "outputs": [
    {
     "data": {
      "text/html": [
       "<div>\n",
       "<style scoped>\n",
       "    .dataframe tbody tr th:only-of-type {\n",
       "        vertical-align: middle;\n",
       "    }\n",
       "\n",
       "    .dataframe tbody tr th {\n",
       "        vertical-align: top;\n",
       "    }\n",
       "\n",
       "    .dataframe thead th {\n",
       "        text-align: right;\n",
       "    }\n",
       "</style>\n",
       "<table border=\"1\" class=\"dataframe\">\n",
       "  <thead>\n",
       "    <tr style=\"text-align: right;\">\n",
       "      <th></th>\n",
       "      <th>practice</th>\n",
       "      <th>bnf_code</th>\n",
       "      <th>bnf_name</th>\n",
       "      <th>items</th>\n",
       "      <th>nic</th>\n",
       "      <th>act_cost</th>\n",
       "      <th>quantity</th>\n",
       "      <th>opioids</th>\n",
       "    </tr>\n",
       "  </thead>\n",
       "  <tbody>\n",
       "    <tr>\n",
       "      <th>0</th>\n",
       "      <td>N85639</td>\n",
       "      <td>0106020C0</td>\n",
       "      <td>Bisacodyl_Tab E/C 5mg</td>\n",
       "      <td>1</td>\n",
       "      <td>0.39</td>\n",
       "      <td>0.47</td>\n",
       "      <td>12</td>\n",
       "      <td>False</td>\n",
       "    </tr>\n",
       "    <tr>\n",
       "      <th>1</th>\n",
       "      <td>N85639</td>\n",
       "      <td>0106040M0</td>\n",
       "      <td>Movicol Plain_Paed Pdr Sach 6.9g</td>\n",
       "      <td>1</td>\n",
       "      <td>4.38</td>\n",
       "      <td>4.07</td>\n",
       "      <td>30</td>\n",
       "      <td>False</td>\n",
       "    </tr>\n",
       "    <tr>\n",
       "      <th>2</th>\n",
       "      <td>N85639</td>\n",
       "      <td>0301011R0</td>\n",
       "      <td>Salbutamol_Inha 100mcg (200 D) CFF</td>\n",
       "      <td>1</td>\n",
       "      <td>1.50</td>\n",
       "      <td>1.40</td>\n",
       "      <td>1</td>\n",
       "      <td>False</td>\n",
       "    </tr>\n",
       "    <tr>\n",
       "      <th>3</th>\n",
       "      <td>N85639</td>\n",
       "      <td>0304010G0</td>\n",
       "      <td>Chlorphenamine Mal_Oral Soln 2mg/5ml</td>\n",
       "      <td>1</td>\n",
       "      <td>2.62</td>\n",
       "      <td>2.44</td>\n",
       "      <td>150</td>\n",
       "      <td>False</td>\n",
       "    </tr>\n",
       "    <tr>\n",
       "      <th>4</th>\n",
       "      <td>N85639</td>\n",
       "      <td>0401020K0</td>\n",
       "      <td>Diazepam_Tab 2mg</td>\n",
       "      <td>1</td>\n",
       "      <td>0.16</td>\n",
       "      <td>0.26</td>\n",
       "      <td>6</td>\n",
       "      <td>False</td>\n",
       "    </tr>\n",
       "    <tr>\n",
       "      <th>...</th>\n",
       "      <td>...</td>\n",
       "      <td>...</td>\n",
       "      <td>...</td>\n",
       "      <td>...</td>\n",
       "      <td>...</td>\n",
       "      <td>...</td>\n",
       "      <td>...</td>\n",
       "      <td>...</td>\n",
       "    </tr>\n",
       "    <tr>\n",
       "      <th>971518</th>\n",
       "      <td>H81615</td>\n",
       "      <td>0101010C0</td>\n",
       "      <td>Alu-Cap_Cap 475mg</td>\n",
       "      <td>1</td>\n",
       "      <td>13.71</td>\n",
       "      <td>12.70</td>\n",
       "      <td>120</td>\n",
       "      <td>False</td>\n",
       "    </tr>\n",
       "    <tr>\n",
       "      <th>971519</th>\n",
       "      <td>H81615</td>\n",
       "      <td>0101010G0</td>\n",
       "      <td>Maalox_Susp 195mg/220mg/5ml S/F</td>\n",
       "      <td>1</td>\n",
       "      <td>3.35</td>\n",
       "      <td>3.11</td>\n",
       "      <td>500</td>\n",
       "      <td>False</td>\n",
       "    </tr>\n",
       "    <tr>\n",
       "      <th>971520</th>\n",
       "      <td>H81615</td>\n",
       "      <td>0101010I0</td>\n",
       "      <td>Mag Ox_Cap 160mg</td>\n",
       "      <td>1</td>\n",
       "      <td>119.70</td>\n",
       "      <td>110.83</td>\n",
       "      <td>180</td>\n",
       "      <td>False</td>\n",
       "    </tr>\n",
       "    <tr>\n",
       "      <th>971521</th>\n",
       "      <td>H81615</td>\n",
       "      <td>0101021B0</td>\n",
       "      <td>Sod Algin/Pot Bicarb_Susp S/F</td>\n",
       "      <td>3</td>\n",
       "      <td>15.36</td>\n",
       "      <td>14.25</td>\n",
       "      <td>1500</td>\n",
       "      <td>False</td>\n",
       "    </tr>\n",
       "    <tr>\n",
       "      <th>971522</th>\n",
       "      <td>H81615</td>\n",
       "      <td>0101021B0</td>\n",
       "      <td>Sod Alginate/Pot Bicarb_Tab Chble 500mg</td>\n",
       "      <td>1</td>\n",
       "      <td>3.07</td>\n",
       "      <td>2.85</td>\n",
       "      <td>60</td>\n",
       "      <td>False</td>\n",
       "    </tr>\n",
       "  </tbody>\n",
       "</table>\n",
       "<p>4227 rows × 8 columns</p>\n",
       "</div>"
      ],
      "text/plain": [
       "       practice   bnf_code                                 bnf_name  items  \\\n",
       "0        N85639  0106020C0                    Bisacodyl_Tab E/C 5mg      1   \n",
       "1        N85639  0106040M0         Movicol Plain_Paed Pdr Sach 6.9g      1   \n",
       "2        N85639  0301011R0       Salbutamol_Inha 100mcg (200 D) CFF      1   \n",
       "3        N85639  0304010G0     Chlorphenamine Mal_Oral Soln 2mg/5ml      1   \n",
       "4        N85639  0401020K0                         Diazepam_Tab 2mg      1   \n",
       "...         ...        ...                                      ...    ...   \n",
       "971518   H81615  0101010C0                        Alu-Cap_Cap 475mg      1   \n",
       "971519   H81615  0101010G0          Maalox_Susp 195mg/220mg/5ml S/F      1   \n",
       "971520   H81615  0101010I0                         Mag Ox_Cap 160mg      1   \n",
       "971521   H81615  0101021B0            Sod Algin/Pot Bicarb_Susp S/F      3   \n",
       "971522   H81615  0101021B0  Sod Alginate/Pot Bicarb_Tab Chble 500mg      1   \n",
       "\n",
       "           nic  act_cost  quantity  opioids  \n",
       "0         0.39      0.47        12    False  \n",
       "1         4.38      4.07        30    False  \n",
       "2         1.50      1.40         1    False  \n",
       "3         2.62      2.44       150    False  \n",
       "4         0.16      0.26         6    False  \n",
       "...        ...       ...       ...      ...  \n",
       "971518   13.71     12.70       120    False  \n",
       "971519    3.35      3.11       500    False  \n",
       "971520  119.70    110.83       180    False  \n",
       "971521   15.36     14.25      1500    False  \n",
       "971522    3.07      2.85        60    False  \n",
       "\n",
       "[4227 rows x 8 columns]"
      ]
     },
     "execution_count": 33,
     "metadata": {},
     "output_type": "execute_result"
    }
   ],
   "source": [
    "scripts.groupby('practice').head()"
   ]
  },
  {
   "cell_type": "code",
   "execution_count": 43,
   "metadata": {},
   "outputs": [],
   "source": [
    "uni_name=practices.groupby('code')['name'].min()"
   ]
  },
  {
   "cell_type": "code",
   "execution_count": 49,
   "metadata": {},
   "outputs": [
    {
     "data": {
      "text/html": [
       "<div>\n",
       "<style scoped>\n",
       "    .dataframe tbody tr th:only-of-type {\n",
       "        vertical-align: middle;\n",
       "    }\n",
       "\n",
       "    .dataframe tbody tr th {\n",
       "        vertical-align: top;\n",
       "    }\n",
       "\n",
       "    .dataframe thead th {\n",
       "        text-align: right;\n",
       "    }\n",
       "</style>\n",
       "<table border=\"1\" class=\"dataframe\">\n",
       "  <thead>\n",
       "    <tr style=\"text-align: right;\">\n",
       "      <th></th>\n",
       "      <th>index</th>\n",
       "      <th>z-score</th>\n",
       "    </tr>\n",
       "  </thead>\n",
       "  <tbody>\n",
       "    <tr>\n",
       "      <th>0</th>\n",
       "      <td>A81005</td>\n",
       "      <td>-0.548306</td>\n",
       "    </tr>\n",
       "    <tr>\n",
       "      <th>1</th>\n",
       "      <td>A81007</td>\n",
       "      <td>1.544557</td>\n",
       "    </tr>\n",
       "    <tr>\n",
       "      <th>2</th>\n",
       "      <td>A81011</td>\n",
       "      <td>2.291795</td>\n",
       "    </tr>\n",
       "    <tr>\n",
       "      <th>3</th>\n",
       "      <td>A81012</td>\n",
       "      <td>1.373060</td>\n",
       "    </tr>\n",
       "    <tr>\n",
       "      <th>4</th>\n",
       "      <td>A81017</td>\n",
       "      <td>0.583168</td>\n",
       "    </tr>\n",
       "    <tr>\n",
       "      <th>...</th>\n",
       "      <td>...</td>\n",
       "      <td>...</td>\n",
       "    </tr>\n",
       "    <tr>\n",
       "      <th>851</th>\n",
       "      <td>Y05570</td>\n",
       "      <td>1.391142</td>\n",
       "    </tr>\n",
       "    <tr>\n",
       "      <th>852</th>\n",
       "      <td>Y05583</td>\n",
       "      <td>-1.019657</td>\n",
       "    </tr>\n",
       "    <tr>\n",
       "      <th>853</th>\n",
       "      <td>Y05597</td>\n",
       "      <td>-0.817544</td>\n",
       "    </tr>\n",
       "    <tr>\n",
       "      <th>854</th>\n",
       "      <td>Y05660</td>\n",
       "      <td>-1.278102</td>\n",
       "    </tr>\n",
       "    <tr>\n",
       "      <th>855</th>\n",
       "      <td>Y05670</td>\n",
       "      <td>-0.667522</td>\n",
       "    </tr>\n",
       "  </tbody>\n",
       "</table>\n",
       "<p>856 rows × 2 columns</p>\n",
       "</div>"
      ],
      "text/plain": [
       "      index   z-score\n",
       "0    A81005 -0.548306\n",
       "1    A81007  1.544557\n",
       "2    A81011  2.291795\n",
       "3    A81012  1.373060\n",
       "4    A81017  0.583168\n",
       "..      ...       ...\n",
       "851  Y05570  1.391142\n",
       "852  Y05583 -1.019657\n",
       "853  Y05597 -0.817544\n",
       "854  Y05660 -1.278102\n",
       "855  Y05670 -0.667522\n",
       "\n",
       "[856 rows x 2 columns]"
      ]
     },
     "execution_count": 49,
     "metadata": {},
     "output_type": "execute_result"
    }
   ],
   "source": [
    "opioid_scores.reset_index()"
   ]
  },
  {
   "cell_type": "code",
   "execution_count": 46,
   "metadata": {},
   "outputs": [
    {
     "data": {
      "text/html": [
       "<div>\n",
       "<style scoped>\n",
       "    .dataframe tbody tr th:only-of-type {\n",
       "        vertical-align: middle;\n",
       "    }\n",
       "\n",
       "    .dataframe tbody tr th {\n",
       "        vertical-align: top;\n",
       "    }\n",
       "\n",
       "    .dataframe thead th {\n",
       "        text-align: right;\n",
       "    }\n",
       "</style>\n",
       "<table border=\"1\" class=\"dataframe\">\n",
       "  <thead>\n",
       "    <tr style=\"text-align: right;\">\n",
       "      <th></th>\n",
       "      <th>code</th>\n",
       "      <th>name</th>\n",
       "    </tr>\n",
       "  </thead>\n",
       "  <tbody>\n",
       "    <tr>\n",
       "      <th>0</th>\n",
       "      <td>A81001</td>\n",
       "      <td>THE DENSHAM SURGERY</td>\n",
       "    </tr>\n",
       "    <tr>\n",
       "      <th>1</th>\n",
       "      <td>A81002</td>\n",
       "      <td>QUEENS PARK MEDICAL CENTRE</td>\n",
       "    </tr>\n",
       "    <tr>\n",
       "      <th>2</th>\n",
       "      <td>A81003</td>\n",
       "      <td>VICTORIA MEDICAL PRACTICE</td>\n",
       "    </tr>\n",
       "    <tr>\n",
       "      <th>3</th>\n",
       "      <td>A81004</td>\n",
       "      <td>BLUEBELL MEDICAL CENTRE</td>\n",
       "    </tr>\n",
       "    <tr>\n",
       "      <th>4</th>\n",
       "      <td>A81005</td>\n",
       "      <td>SPRINGWOOD SURGERY</td>\n",
       "    </tr>\n",
       "    <tr>\n",
       "      <th>...</th>\n",
       "      <td>...</td>\n",
       "      <td>...</td>\n",
       "    </tr>\n",
       "    <tr>\n",
       "      <th>10838</th>\n",
       "      <td>Y05758</td>\n",
       "      <td>VC SKELMERSDALE UCC</td>\n",
       "    </tr>\n",
       "    <tr>\n",
       "      <th>10839</th>\n",
       "      <td>Y05762</td>\n",
       "      <td>WEST MERTON ACCESS HUB</td>\n",
       "    </tr>\n",
       "    <tr>\n",
       "      <th>10840</th>\n",
       "      <td>Y05763</td>\n",
       "      <td>ELY LOCAL URGENT CARE SERVICE</td>\n",
       "    </tr>\n",
       "    <tr>\n",
       "      <th>10841</th>\n",
       "      <td>Y05764</td>\n",
       "      <td>MINOR INJURIES UNIT</td>\n",
       "    </tr>\n",
       "    <tr>\n",
       "      <th>10842</th>\n",
       "      <td>Y05771</td>\n",
       "      <td>URGENT CARE CENTRE NORTHWICK PARK HOSP</td>\n",
       "    </tr>\n",
       "  </tbody>\n",
       "</table>\n",
       "<p>10843 rows × 2 columns</p>\n",
       "</div>"
      ],
      "text/plain": [
       "         code                                    name\n",
       "0      A81001                     THE DENSHAM SURGERY\n",
       "1      A81002              QUEENS PARK MEDICAL CENTRE\n",
       "2      A81003               VICTORIA MEDICAL PRACTICE\n",
       "3      A81004                 BLUEBELL MEDICAL CENTRE\n",
       "4      A81005                      SPRINGWOOD SURGERY\n",
       "...       ...                                     ...\n",
       "10838  Y05758                     VC SKELMERSDALE UCC\n",
       "10839  Y05762                  WEST MERTON ACCESS HUB\n",
       "10840  Y05763           ELY LOCAL URGENT CARE SERVICE\n",
       "10841  Y05764                     MINOR INJURIES UNIT\n",
       "10842  Y05771  URGENT CARE CENTRE NORTHWICK PARK HOSP\n",
       "\n",
       "[10843 rows x 2 columns]"
      ]
     },
     "execution_count": 46,
     "metadata": {},
     "output_type": "execute_result"
    }
   ],
   "source": [
    "uni_name = pd.DataFrame(uni_name).reset_index()\n",
    "uni_name"
   ]
  },
  {
   "cell_type": "code",
   "execution_count": 63,
   "metadata": {},
   "outputs": [
    {
     "data": {
      "text/html": [
       "<div>\n",
       "<style scoped>\n",
       "    .dataframe tbody tr th:only-of-type {\n",
       "        vertical-align: middle;\n",
       "    }\n",
       "\n",
       "    .dataframe tbody tr th {\n",
       "        vertical-align: top;\n",
       "    }\n",
       "\n",
       "    .dataframe thead th {\n",
       "        text-align: right;\n",
       "    }\n",
       "</style>\n",
       "<table border=\"1\" class=\"dataframe\">\n",
       "  <thead>\n",
       "    <tr style=\"text-align: right;\">\n",
       "      <th></th>\n",
       "      <th>index</th>\n",
       "      <th>practice</th>\n",
       "    </tr>\n",
       "  </thead>\n",
       "  <tbody>\n",
       "    <tr>\n",
       "      <th>0</th>\n",
       "      <td>N83028</td>\n",
       "      <td>2844</td>\n",
       "    </tr>\n",
       "    <tr>\n",
       "      <th>1</th>\n",
       "      <td>L83100</td>\n",
       "      <td>2797</td>\n",
       "    </tr>\n",
       "    <tr>\n",
       "      <th>2</th>\n",
       "      <td>D81043</td>\n",
       "      <td>2459</td>\n",
       "    </tr>\n",
       "    <tr>\n",
       "      <th>3</th>\n",
       "      <td>B81008</td>\n",
       "      <td>2396</td>\n",
       "    </tr>\n",
       "    <tr>\n",
       "      <th>4</th>\n",
       "      <td>B81026</td>\n",
       "      <td>2347</td>\n",
       "    </tr>\n",
       "    <tr>\n",
       "      <th>...</th>\n",
       "      <td>...</td>\n",
       "      <td>...</td>\n",
       "    </tr>\n",
       "    <tr>\n",
       "      <th>851</th>\n",
       "      <td>Y03179</td>\n",
       "      <td>1</td>\n",
       "    </tr>\n",
       "    <tr>\n",
       "      <th>852</th>\n",
       "      <td>Y03010</td>\n",
       "      <td>1</td>\n",
       "    </tr>\n",
       "    <tr>\n",
       "      <th>853</th>\n",
       "      <td>Y05366</td>\n",
       "      <td>1</td>\n",
       "    </tr>\n",
       "    <tr>\n",
       "      <th>854</th>\n",
       "      <td>C85617</td>\n",
       "      <td>1</td>\n",
       "    </tr>\n",
       "    <tr>\n",
       "      <th>855</th>\n",
       "      <td>Y01174</td>\n",
       "      <td>1</td>\n",
       "    </tr>\n",
       "  </tbody>\n",
       "</table>\n",
       "<p>856 rows × 2 columns</p>\n",
       "</div>"
      ],
      "text/plain": [
       "      index  practice\n",
       "0    N83028      2844\n",
       "1    L83100      2797\n",
       "2    D81043      2459\n",
       "3    B81008      2396\n",
       "4    B81026      2347\n",
       "..      ...       ...\n",
       "851  Y03179         1\n",
       "852  Y03010         1\n",
       "853  Y05366         1\n",
       "854  C85617         1\n",
       "855  Y01174         1\n",
       "\n",
       "[856 rows x 2 columns]"
      ]
     },
     "execution_count": 63,
     "metadata": {},
     "output_type": "execute_result"
    }
   ],
   "source": [
    "scripts['practice'].value_counts().reset_index()"
   ]
  },
  {
   "cell_type": "code",
   "execution_count": 54,
   "metadata": {},
   "outputs": [
    {
     "ename": "NameError",
     "evalue": "name 'scripts' is not defined",
     "output_type": "error",
     "traceback": [
      "\u001b[0;31m---------------------------------------------------------------------------\u001b[0m",
      "\u001b[0;31mNameError\u001b[0m                                 Traceback (most recent call last)",
      "\u001b[0;32m<ipython-input-54-6e1fc019611c>\u001b[0m in \u001b[0;36m<module>\u001b[0;34m\u001b[0m\n\u001b[0;32m----> 1\u001b[0;31m \u001b[0mnumber_of_scripts\u001b[0m \u001b[0;34m=\u001b[0m \u001b[0mscripts\u001b[0m\u001b[0;34m[\u001b[0m\u001b[0;34m'practice'\u001b[0m\u001b[0;34m]\u001b[0m\u001b[0;34m.\u001b[0m\u001b[0mvalue_counts\u001b[0m\u001b[0;34m(\u001b[0m\u001b[0;34m)\u001b[0m\u001b[0;34m.\u001b[0m\u001b[0mreset_index\u001b[0m\u001b[0;34m(\u001b[0m\u001b[0;34m)\u001b[0m\u001b[0;34m\u001b[0m\u001b[0;34m\u001b[0m\u001b[0m\n\u001b[0m\u001b[1;32m      2\u001b[0m \u001b[0mnumber_of_scripts\u001b[0m\u001b[0;34m\u001b[0m\u001b[0;34m\u001b[0m\u001b[0m\n",
      "\u001b[0;31mNameError\u001b[0m: name 'scripts' is not defined"
     ]
    }
   ],
   "source": [
    "number_of_scripts = scripts['practice'].value_counts().reset_index()\n",
    "number_of_scripts"
   ]
  },
  {
   "cell_type": "code",
   "execution_count": 67,
   "metadata": {},
   "outputs": [],
   "source": [
    "anomalies = (uni_name.merge(opioid_scores.reset_index(),left_on='code',right_on='index')[['code','name','z-score']]).merge(number_of_scripts,left_on='code',right_on='index'   )[['code','name','z-score','practice']]"
   ]
  },
  {
   "cell_type": "code",
   "execution_count": 75,
   "metadata": {},
   "outputs": [
    {
     "name": "stdout",
     "output_type": "stream",
     "text": [
      "5\n",
      "('Y01852', 'NATIONAL ENHANCED SERVICE', 11.695817862936027, 7)\n"
     ]
    }
   ],
   "source": [
    "for i in anomalies.sort_values('z-score',ascending=False).itertuples():\n",
    "    print(len(i))\n",
    "    print(i[1:])\n",
    "    break"
   ]
  },
  {
   "cell_type": "code",
   "execution_count": 74,
   "metadata": {},
   "outputs": [
    {
     "data": {
      "text/plain": [
       "code                           Y01852\n",
       "name        NATIONAL ENHANCED SERVICE\n",
       "z-score                       11.6958\n",
       "practice                            7\n",
       "Name: 714, dtype: object"
      ]
     },
     "execution_count": 74,
     "metadata": {},
     "output_type": "execute_result"
    }
   ],
   "source": [
    "anomalies.loc[714]"
   ]
  },
  {
   "cell_type": "code",
   "execution_count": 76,
   "metadata": {},
   "outputs": [],
   "source": [
    "#unique_practices = ...\n",
    "anomalies = [i[1:] for i in anomalies.sort_values('z-score',ascending=False).itertuples() ] [:100]"
   ]
  },
  {
   "cell_type": "code",
   "execution_count": 77,
   "metadata": {},
   "outputs": [
    {
     "name": "stdout",
     "output_type": "stream",
     "text": [
      "==================\n",
      "Your score: 1.000\n",
      "==================\n"
     ]
    }
   ],
   "source": [
    "grader.score.dw__script_anomalies(anomalies)"
   ]
  },
  {
   "cell_type": "markdown",
   "metadata": {},
   "source": [
    "## Question 5: script_growth\n",
    "\n",
    "Another way to identify anomalies is by comparing current data to historical data. In the case of identifying sites of drug abuse, we might compare a practice's current rate of opioid prescription to their rate 5 or 10 years ago. Unless the nature of the practice has changed, the profile of drugs they prescribe should be relatively stable. We might also want to identify trends through time for business reasons, identifying drugs that are gaining market share. That's what we'll do in this question.\n",
    "\n",
    "We'll load in beneficiary data from 6 months earlier, June 2016, and calculate the growth rate in prescription rate from June 2016 to January 2017 for each `bnf_name`. The growth is defined as\n",
    "\n",
    "$$\n",
    "\\text{growth rate} = \\frac{x_1 - x_0}{x_0},\n",
    "$$\n",
    "where $x_1$ is the current value and $x_0$ is the previous value.\n",
    "\n",
    "\n",
    "We'll return the 50 items with largest growth and the 50 items with the largest shrinkage (i.e. negative growth rate) as a list of tuples sorted by growth rate in descending order in the format `(script_name, growth_rate, raw_2016_count)`. You'll notice that many of the 50 fastest growing items have low counts of prescriptions in 2016. Filter out any items that were prescribed less than 50 times."
   ]
  },
  {
   "cell_type": "code",
   "execution_count": 29,
   "metadata": {},
   "outputs": [],
   "source": [
    "import pandas as pd\n",
    "import numpy as np\n",
    "scripts16 = pd.read_csv('./dw-data/201606scripts_sample.csv.gz')\n",
    "scripts17 = pd.read_csv('./dw-data/201701scripts_sample.csv.gz')"
   ]
  },
  {
   "cell_type": "code",
   "execution_count": 30,
   "metadata": {},
   "outputs": [],
   "source": [
    "scripts16=scripts16[['bnf_name','items']].groupby('bnf_name').count().reset_index()"
   ]
  },
  {
   "cell_type": "code",
   "execution_count": 31,
   "metadata": {},
   "outputs": [],
   "source": [
    "scripts17=scripts17[['bnf_name','items']].groupby('bnf_name').count().reset_index()"
   ]
  },
  {
   "cell_type": "code",
   "execution_count": 20,
   "metadata": {},
   "outputs": [
    {
     "data": {
      "text/html": [
       "<div>\n",
       "<style scoped>\n",
       "    .dataframe tbody tr th:only-of-type {\n",
       "        vertical-align: middle;\n",
       "    }\n",
       "\n",
       "    .dataframe tbody tr th {\n",
       "        vertical-align: top;\n",
       "    }\n",
       "\n",
       "    .dataframe thead th {\n",
       "        text-align: right;\n",
       "    }\n",
       "</style>\n",
       "<table border=\"1\" class=\"dataframe\">\n",
       "  <thead>\n",
       "    <tr style=\"text-align: right;\">\n",
       "      <th></th>\n",
       "      <th>bnf_name</th>\n",
       "      <th>scripts16_count</th>\n",
       "      <th>scripts17_count</th>\n",
       "      <th>growth_rate</th>\n",
       "    </tr>\n",
       "  </thead>\n",
       "  <tbody>\n",
       "    <tr>\n",
       "      <th>0</th>\n",
       "      <td>365 Non Adherent 10cm x 10cm Pfa Plas Fa</td>\n",
       "      <td>3</td>\n",
       "      <td>3</td>\n",
       "      <td>0.000000</td>\n",
       "    </tr>\n",
       "    <tr>\n",
       "      <th>1</th>\n",
       "      <td>365 Transpt Island 8.5cm x 15.5cm VP Adh</td>\n",
       "      <td>1</td>\n",
       "      <td>1</td>\n",
       "      <td>0.000000</td>\n",
       "    </tr>\n",
       "    <tr>\n",
       "      <th>2</th>\n",
       "      <td>3m Health Care_Cavilon Durable Barrier C</td>\n",
       "      <td>825</td>\n",
       "      <td>816</td>\n",
       "      <td>-0.010909</td>\n",
       "    </tr>\n",
       "    <tr>\n",
       "      <th>3</th>\n",
       "      <td>3m Health Care_Cavilon No Sting 1ml Barr</td>\n",
       "      <td>231</td>\n",
       "      <td>223</td>\n",
       "      <td>-0.034632</td>\n",
       "    </tr>\n",
       "    <tr>\n",
       "      <th>4</th>\n",
       "      <td>3m Health Care_Cavilon No Sting 3ml Barr</td>\n",
       "      <td>105</td>\n",
       "      <td>94</td>\n",
       "      <td>-0.104762</td>\n",
       "    </tr>\n",
       "    <tr>\n",
       "      <th>...</th>\n",
       "      <td>...</td>\n",
       "      <td>...</td>\n",
       "      <td>...</td>\n",
       "      <td>...</td>\n",
       "    </tr>\n",
       "    <tr>\n",
       "      <th>11582</th>\n",
       "      <td>nSpire PiKo-1 Stnd Range Peak Flow Meter</td>\n",
       "      <td>2</td>\n",
       "      <td>1</td>\n",
       "      <td>-0.500000</td>\n",
       "    </tr>\n",
       "    <tr>\n",
       "      <th>11583</th>\n",
       "      <td>nSpire Pocket Peak Low Range Peak Flow M</td>\n",
       "      <td>2</td>\n",
       "      <td>4</td>\n",
       "      <td>1.000000</td>\n",
       "    </tr>\n",
       "    <tr>\n",
       "      <th>11584</th>\n",
       "      <td>nSpire Pocket Peak Stnd Range Peak Flow</td>\n",
       "      <td>2</td>\n",
       "      <td>5</td>\n",
       "      <td>1.500000</td>\n",
       "    </tr>\n",
       "    <tr>\n",
       "      <th>11585</th>\n",
       "      <td>oraNurse_Toothpaste Orig (1450ppm)</td>\n",
       "      <td>2</td>\n",
       "      <td>4</td>\n",
       "      <td>1.000000</td>\n",
       "    </tr>\n",
       "    <tr>\n",
       "      <th>11586</th>\n",
       "      <td>palmdoc (Reagent)_Strips</td>\n",
       "      <td>3</td>\n",
       "      <td>5</td>\n",
       "      <td>0.666667</td>\n",
       "    </tr>\n",
       "  </tbody>\n",
       "</table>\n",
       "<p>11587 rows × 4 columns</p>\n",
       "</div>"
      ],
      "text/plain": [
       "                                       bnf_name  scripts16_count  \\\n",
       "0      365 Non Adherent 10cm x 10cm Pfa Plas Fa                3   \n",
       "1      365 Transpt Island 8.5cm x 15.5cm VP Adh                1   \n",
       "2      3m Health Care_Cavilon Durable Barrier C              825   \n",
       "3      3m Health Care_Cavilon No Sting 1ml Barr              231   \n",
       "4      3m Health Care_Cavilon No Sting 3ml Barr              105   \n",
       "...                                         ...              ...   \n",
       "11582  nSpire PiKo-1 Stnd Range Peak Flow Meter                2   \n",
       "11583  nSpire Pocket Peak Low Range Peak Flow M                2   \n",
       "11584   nSpire Pocket Peak Stnd Range Peak Flow                2   \n",
       "11585        oraNurse_Toothpaste Orig (1450ppm)                2   \n",
       "11586                  palmdoc (Reagent)_Strips                3   \n",
       "\n",
       "       scripts17_count  growth_rate  \n",
       "0                    3     0.000000  \n",
       "1                    1     0.000000  \n",
       "2                  816    -0.010909  \n",
       "3                  223    -0.034632  \n",
       "4                   94    -0.104762  \n",
       "...                ...          ...  \n",
       "11582                1    -0.500000  \n",
       "11583                4     1.000000  \n",
       "11584                5     1.500000  \n",
       "11585                4     1.000000  \n",
       "11586                5     0.666667  \n",
       "\n",
       "[11587 rows x 4 columns]"
      ]
     },
     "execution_count": 20,
     "metadata": {},
     "output_type": "execute_result"
    }
   ],
   "source": [
    "joined"
   ]
  },
  {
   "cell_type": "code",
   "execution_count": 32,
   "metadata": {},
   "outputs": [],
   "source": [
    "scripts16.columns=['bnf_name','scripts16_count']"
   ]
  },
  {
   "cell_type": "code",
   "execution_count": 33,
   "metadata": {},
   "outputs": [],
   "source": [
    "scripts17.columns=['bnf_name','scripts17_count']"
   ]
  },
  {
   "cell_type": "code",
   "execution_count": 35,
   "metadata": {},
   "outputs": [],
   "source": [
    "joined = scripts16.merge(scripts17,on='bnf_name',how='inner')"
   ]
  },
  {
   "cell_type": "code",
   "execution_count": 26,
   "metadata": {},
   "outputs": [],
   "source": [
    "scripts17=scripts17[['bnf_name','scripts17_count']]"
   ]
  },
  {
   "cell_type": "code",
   "execution_count": 32,
   "metadata": {},
   "outputs": [],
   "source": [
    "scripts16 = scripts16.merge(scripts17,on='bnf_name',how='right').fillna(0)[['bnf_name','scripts16_count']] \n",
    "\n"
   ]
  },
  {
   "cell_type": "code",
   "execution_count": 34,
   "metadata": {},
   "outputs": [],
   "source": [
    "joined=scripts17.merge(scripts16, on='bnf_name', how='inner')"
   ]
  },
  {
   "cell_type": "code",
   "execution_count": 37,
   "metadata": {},
   "outputs": [],
   "source": [
    "joined['growth_rate']=(joined['scripts17_count']-joined['scripts16_count'])/joined['scripts16_count']"
   ]
  },
  {
   "cell_type": "code",
   "execution_count": 19,
   "metadata": {},
   "outputs": [
    {
     "ename": "NameError",
     "evalue": "name 'joined' is not defined",
     "output_type": "error",
     "traceback": [
      "\u001b[0;31m---------------------------------------------------------------------------\u001b[0m",
      "\u001b[0;31mNameError\u001b[0m                                 Traceback (most recent call last)",
      "\u001b[0;32m<ipython-input-19-9b4f09ad479b>\u001b[0m in \u001b[0;36m<module>\u001b[0;34m\u001b[0m\n\u001b[0;32m----> 1\u001b[0;31m \u001b[0mjoined\u001b[0m\u001b[0;34m.\u001b[0m\u001b[0msort_values\u001b[0m\u001b[0;34m(\u001b[0m\u001b[0;34m'growth_rate'\u001b[0m\u001b[0;34m,\u001b[0m\u001b[0mascending\u001b[0m\u001b[0;34m=\u001b[0m\u001b[0;32mFalse\u001b[0m\u001b[0;34m)\u001b[0m\u001b[0;34m\u001b[0m\u001b[0;34m\u001b[0m\u001b[0m\n\u001b[0m",
      "\u001b[0;31mNameError\u001b[0m: name 'joined' is not defined"
     ]
    }
   ],
   "source": [
    "#joined.sort_values('growth_rate',ascending=False)\n"
   ]
  },
  {
   "cell_type": "code",
   "execution_count": 43,
   "metadata": {},
   "outputs": [],
   "source": [
    "joined = joined[joined['scripts16_count']>=50]\n",
    "\n",
    "    \n",
    "    "
   ]
  },
  {
   "cell_type": "code",
   "execution_count": 36,
   "metadata": {},
   "outputs": [
    {
     "data": {
      "text/plain": [
       "[('Vensir XL_Cap 225mg', 92.0, 1),\n",
       " ('Fludroxycortide_Tape 7.5cm x 20cm', 52.0, 2),\n",
       " ('Tamiflu_Cap 75mg', 43.0, 1),\n",
       " ('Enstilar_Foam Aero 50mcg/0.5mg/g', 27.125, 8),\n",
       " ('Memantine HCl_Orodisper Tab 10mg S/F', 27.0, 1),\n",
       " ('AproDerm Colloidal Oat Crm 500ml', 27.0, 1),\n",
       " ('Thealoz Duo Sod Hyaluronate Eye Dps 10ml', 23.333333333333332, 3),\n",
       " ('Imuvac_Vac 0.5ml Pfs', 22.25, 4),\n",
       " ('Diazepam_Oral Susp 2mg/5ml', 21.0, 1),\n",
       " ('Memantine HCl_Orodisper Tab 20mg S/F', 20.0, 1),\n",
       " ('Influenza_Vac Inact 0.5ml Pfs', 16.681818181818183, 22),\n",
       " ('Oseltamivir Phos_Cap 75mg', 15.857142857142858, 7),\n",
       " ('Spiroco XL_Tab 4mg', 14.0, 1),\n",
       " ('Prednisolone_Tab 30mg', 14.0, 1),\n",
       " ('Amoxil_Cap 500mg', 12.4, 5),\n",
       " ('Influvac Sub-Unit_Vac 0.5ml Pfs', 12.0, 1),\n",
       " ('Ticagrelor_Tab 60mg', 12.0, 1),\n",
       " ('Isomol Gel 500g', 11.5, 2),\n",
       " ('Lisdexamfetamine_Cap 40mg', 11.0, 1),\n",
       " ('Octenilin Wound Gel 20ml Wound Dress H/G', 10.0, 1),\n",
       " ('ClearFilm 6cm x 7cm VP Adh Film Dress', 10.0, 1),\n",
       " ('Fluarix Tetra_Vac 0.5ml Pfs', 10.0, 2),\n",
       " ('Calci-D_Tab Chble 1g/1 000u', 9.666666666666666, 3),\n",
       " ('Calcipotriol/Betameth_Foam 50mcg/0.5mg/g', 9.444444444444445, 9),\n",
       " ('Entresto_Tab 24mg/26mg', 9.0, 1),\n",
       " ('Peptamen_Dripac-Flex Liq (Unflav)', 9.0, 1),\n",
       " ('Co-Phenotrope_Tab 2.5mg/25mcg', 9.0, 1),\n",
       " ('Cilique_Tab', 8.75, 4),\n",
       " ('BD Viva Needles Pen Inj Screw On 5mm/31', 8.6, 5),\n",
       " ('Sondate XL_Tab 200mg', 8.5, 2),\n",
       " ('Hollister_Conform 2 Maxi Closed Pouch +', 8.0, 1),\n",
       " ('Tacalcitol_Lot 4mcg/1g', 8.0, 1),\n",
       " ('Entresto_Tab 49mg/51mg', 8.0, 1),\n",
       " ('Enzira_Vac Inact 0.5ml Pfs', 8.0, 1),\n",
       " ('Peak_Uromate Urost Pouch Transpt Lge S/H', 8.0, 1),\n",
       " ('Spiroco XL_Tab 2mg', 8.0, 1),\n",
       " ('AproDerm Emollient Crm 450g', 7.75, 4),\n",
       " ('Foodlink_Complete Food Drink+Fibre (Van)', 7.0, 2),\n",
       " ('Brivaracetam_Tab 50mg', 7.0, 1),\n",
       " ('KerraFoam Gentle Border 10cm x 20cm Woun', 7.0, 1),\n",
       " ('Isomol Gel 100g', 7.0, 1),\n",
       " ('Activa Leg Ulcer Hose Kit Ex Exlge Stkn', 7.0, 1),\n",
       " ('Bism Subsalic_Tab 262.5mg Chble S/F', 7.0, 1),\n",
       " ('Sacubitril/Valsartan_Tab 49mg/51mg', 6.6, 5),\n",
       " ('Elvanse_Cap 40mg', 6.333333333333333, 3),\n",
       " ('Salbut/Ipratrop_NebSoln 2.5/.5/2.5ml Amp', 6.0, 1),\n",
       " ('Hollister_Conform 2 Midi Closed Pouch +', 6.0, 1),\n",
       " ('Lido HCl_Inj 2% 20ml Amp', 6.0, 1),\n",
       " ('Bard HydroSil Go Intermit Fle Nelaton 10', 6.0, 2),\n",
       " ('Dansac_Nova 2 Flng 43mm P/Cut 30mm', 6.0, 1)]"
      ]
     },
     "execution_count": 36,
     "metadata": {},
     "output_type": "execute_result"
    }
   ],
   "source": [
    "[(i[1],i[4],i[3]) for i in joined.sort_values('growth_rate',ascending=False).itertuples()][:50]"
   ]
  },
  {
   "cell_type": "code",
   "execution_count": 44,
   "metadata": {},
   "outputs": [
    {
     "data": {
      "text/plain": [
       "[('Butec_Transdermal Patch 5mcg/hr', 3.467741935483871, 62),\n",
       " ('Butec_Transdermal Patch 10mcg/hr', 3.0, 69),\n",
       " ('Fostair NEXThaler_Inh 200mcg/6mcg (120D)', 1.430232558139535, 86),\n",
       " ('Pneumococcal_Vac 0.5ml Vl (23 Valent)', 1.2694300518134716, 193),\n",
       " ('Spiolto Respimat_Inha2.5/2.5mcg(60D)+Dev', 1.2692307692307692, 52),\n",
       " ('Trulicity_Inj 1.5mg/0.5ml Pf Pen', 1.1851851851851851, 54),\n",
       " ('CosmoCol_Paed Oral Pdr Sach 6.9g', 1.1774193548387097, 62),\n",
       " ('Dulaglutide_Inj 1.5mg/0.5ml Pf Dev', 0.9634146341463414, 82),\n",
       " ('ViATIM_Vac D/Chamber 160u/25mcg 1ml Pfs', 0.912, 125),\n",
       " ('Empagliflozin_Tab 25mg', 0.896, 125),\n",
       " ('CareSens Lancets 0.31mm/30 Gauge', 0.8955223880597015, 67),\n",
       " ('Fostair_Inh 200mcg/6mcg (120D) CFF', 0.8616600790513834, 253),\n",
       " ('Orbis Nor Saline Sod Chlor 0.9% Nsl Dps', 0.8588235294117647, 85),\n",
       " ('Umeclidinium Brom_Inh 65mcg (30D)', 0.8275862068965517, 87),\n",
       " ('Ultibro Breezhaler_Pdr Inh Cap + Dev', 0.8016528925619835, 121),\n",
       " ('Medihoney_Barrier Crm', 0.7840909090909091, 88),\n",
       " ('Fluoxetine HCl_Oral Soln 20mg/5ml S/F', 0.7808219178082192, 73),\n",
       " ('TEE2 (Reagent)_Strips', 0.7777777777777778, 81),\n",
       " ('Zaluron XL_Tab 400mg', 0.7586206896551724, 58),\n",
       " ('Laxido_Paed Plain Oral Pdr Sach 6.9g', 0.7586206896551724, 174),\n",
       " ('Prednisolone_Oral Soln 5mg/5ml Ud', 0.726027397260274, 73),\n",
       " ('Buprenorphine_Patch 15mcg/hr (7day)', 0.7155963302752294, 109),\n",
       " ('Coloplast_SenSura Mio Maxi Drnbl Bag S/C', 0.7037037037037037, 81),\n",
       " ('Octenisan_Antimicrobial Wsh Lot', 0.7027027027027027, 74),\n",
       " ('Duaklir Genuair_340mcg/12mcg (60D)', 0.6710526315789473, 152),\n",
       " ('Sod Chlor_Inh Soln 0.9% 2.5ml Ud Amp', 0.6419753086419753, 162),\n",
       " ('Coloplast_SenSura Mio Maxi Drnbl Bag L/C', 0.6274509803921569, 51),\n",
       " ('Flutiform_Inha 50/5mcg (120 D)', 0.625, 88),\n",
       " ('Ins Degludec_100u/ml 3ml Pf Pen', 0.6166666666666667, 60),\n",
       " ('CareSens Lancets 0.36mm/28 Gauge', 0.6111111111111112, 90),\n",
       " ('Epimax Crm 500g', 0.61, 100),\n",
       " ('Evacal D3_Tab Chble 400u/1.5g', 0.6046511627906976, 86),\n",
       " ('Shortec_Cap 20mg', 0.6029411764705882, 68),\n",
       " ('Co-Trimoxazole_Oral Susp 40/200mg/5mlS/F', 0.6, 50),\n",
       " ('Ciprofloxacin_Gran For Susp 250mg/5ml', 0.5921052631578947, 76),\n",
       " ('AgaMatrix Ultra-Thin Lancets 0.35mm/28 G', 0.5660377358490566, 53),\n",
       " ('Zemtard 120 XL_Cap 120mg', 0.5636363636363636, 55),\n",
       " ('Nutramigen 2 + LGG_Pdr', 0.5604395604395604, 91),\n",
       " ('Toujeo_300u/ml 1.5ml Pf SoloStar Pen', 0.5408805031446541, 159),\n",
       " ('Ins Tresiba_FlexTouch 100u/ml 3ml Pf Pen', 0.5405405405405406, 148),\n",
       " ('Longtec_Tab 30mg M/R', 0.5370370370370371, 108),\n",
       " ('Adalat_Cap 5mg', 0.5365853658536586, 82),\n",
       " ('Dexameth_Oral Soln 2mg/5ml S/F', 0.5294117647058824, 68),\n",
       " ('Haloperidol_Inj 5mg/ml 1ml Amp', 0.5288461538461539, 104),\n",
       " ('Lyclear_Dermal Crm 5%', 0.5211267605633803, 71),\n",
       " ('Valupak_Multivit & Mineral Tab OAD', 0.5098039215686274, 51),\n",
       " ('Coloplast_Sensura Mio Maxi Clsd Bag + Fl', 0.5056179775280899, 89),\n",
       " ('Medikinet XL_Cap 10mg', 0.48484848484848486, 99),\n",
       " ('Dovobet_Gel Applic', 0.48148148148148145, 54),\n",
       " ('Incruse Ellipta_Inh 55mcg (30D)', 0.4807692307692308, 208),\n",
       " ('Oxycodone HCl_Tab 20mg M/R', -0.4318181818181818, 150),\n",
       " ('Cardura XL_Tab 4mg', -0.43478260869565216, 39),\n",
       " ('Oxycodone HCl_Tab 80mg M/R', -0.4358974358974359, 44),\n",
       " ('Verapamil HCl_Cap 120mg M/R', -0.43790849673202614, 86),\n",
       " ('Topamax_Tab 100mg', -0.45161290322580644, 34),\n",
       " ('Opticrom_Allergy Eye Dps 2%', -0.4523809523809524, 69),\n",
       " ('Optilast_Eye Dps 0.05%', -0.45454545454545453, 30),\n",
       " ('Actonel_Once a Week Tab 35mg', -0.4576271186440678, 32),\n",
       " ('Premique_Tab 0.625mg/5mg', -0.47039473684210525, 161),\n",
       " ('Sunsense_Daily Face Crm Spf 50+', -0.48344370860927155, 78),\n",
       " ('Hydrocort/Crotamiton_Crm 0.25%/10%', -0.48936170212765956, 72),\n",
       " ('Azelastine HCl_Aq Eye Dps 0.05%', -0.5036231884057971, 137),\n",
       " ('Opticrom_Eye Dps 2% (Aq)', -0.5073891625615764, 100),\n",
       " ('Metoprolol Tart_Tab 200mg M/R', -0.509090909090909, 27),\n",
       " ('Rapitil_Eye Dps 2%', -0.5096774193548387, 76),\n",
       " ('Desloratadine_Oral Soln 2.5mg/5ml S/F', -0.5147058823529411, 66),\n",
       " ('Erythromycin_Ethylsuc Tab 500mg', -0.5154639175257731, 47),\n",
       " ('Aquacel Foam Adhesive 8cm x 8cm Wound Dr', -0.5294117647058824, 32),\n",
       " ('Zirtek_Allergy Tab 10mg', -0.5303030303030303, 31),\n",
       " ('Antaz Sulf/Xylomet_Eye Dps 0.5%/0.05%', -0.5454545454545454, 30),\n",
       " ('Vital 1.5kcal_Liq (Vanilla)', -0.5466666666666666, 34),\n",
       " ('Oxybutynin HCl_Oral Soln 2.5mg/5ml S/F', -0.5573770491803278, 27),\n",
       " ('Prazosin HCl_Tab 500mcg', -0.5581395348837209, 38),\n",
       " ('Artificial Saliva_Spy 50ml', -0.5586854460093896, 94),\n",
       " ('Sunsense_Ultra Lot Spf 50+', -0.5652173913043478, 160),\n",
       " ('Telfast 120_Tab 120mg', -0.5698924731182796, 40),\n",
       " ('Otrivine-Antistin_Eye Dps', -0.572463768115942, 59),\n",
       " ('Fexofenadine HCl_Tab 30mg', -0.5959595959595959, 120),\n",
       " ('Mag Trisil_Mix', -0.6119402985074627, 26),\n",
       " ('Glibenclamide_Tab 5mg', -0.6164383561643836, 56),\n",
       " ('Co-Danthrusate_Cap 50mg/60mg', -0.6296296296296297, 30),\n",
       " ('Ketotifen Fumar_Eye Dps 250mcg/ml', -0.6842105263157895, 18),\n",
       " ('Uvistat_Sun Crm Spf 50', -0.6917293233082706, 41),\n",
       " ('Haelan_Tape 7.5cm x 50cm', -0.7130434782608696, 33),\n",
       " ('Haelan_Tape 7.5cm x 20cm', -0.72, 28),\n",
       " ('Beconase_Hayfever Nsl Spy 50mcg (180 D)', -0.7384615384615385, 17),\n",
       " ('Uvistat_Sun Crm Spf 30', -0.7647058823529411, 16),\n",
       " ('Deep Freeze_Cold Gel 2%', -0.7758620689655172, 13),\n",
       " ('Adizem-SR_Tab 120mg', -0.8269230769230769, 9),\n",
       " ('Anugesic HC_Crm', -0.8541666666666666, 14),\n",
       " ('Sunsense_Sunsensitive Crm SPF 50+', -0.8562091503267973, 22),\n",
       " ('Hepatyrix_Vac 1440u/25mcg/ml 1ml Pfs', -0.875, 27),\n",
       " ('Climagest_Tab 2mg', -0.8939393939393939, 7),\n",
       " ('Climaval_Tab 2mg', -0.9015151515151515, 13),\n",
       " ('Orphenadrine HCl_Tab 50mg', -0.9117647058823529, 9),\n",
       " ('Hydroxyzine HCl_Oral Soln 10mg/5ml', -0.9148936170212766, 8),\n",
       " ('Ovysmen_Tab', -0.9253731343283582, 5),\n",
       " ('Climaval_Tab 1mg', -0.9264705882352942, 10),\n",
       " ('Climesse_Tab', -0.9420289855072463, 4),\n",
       " ('Polyalc_Eye Dps 1.4%', -0.9963235294117647, 1)]"
      ]
     },
     "execution_count": 44,
     "metadata": {},
     "output_type": "execute_result"
    }
   ],
   "source": [
    "script_growth=[(i[1],i[4],i[2]) for i in joined.sort_values('growth_rate',ascending=False).itertuples()][:50]+[(i[1],i[4],i[3]) for i in joined.sort_values('growth_rate').itertuples()][:50]\n",
    "script_growth.sort(key=lambda x:x[1] ,reverse=True)\n",
    "script_growth"
   ]
  },
  {
   "cell_type": "code",
   "execution_count": 74,
   "metadata": {},
   "outputs": [],
   "source": [
    "script_growth = [(i[1],i[4],i[3]) for i in joined.sort_values('growth_rate',ascending=False).itertuples()][:50]+[(i[1],i[4],i[3]) for i in joined.sort_values('growth_rate').itertuples()][:50]"
   ]
  },
  {
   "cell_type": "code",
   "execution_count": 45,
   "metadata": {},
   "outputs": [
    {
     "name": "stdout",
     "output_type": "stream",
     "text": [
      "==================\n",
      "Your score: 1.000\n",
      "==================\n"
     ]
    }
   ],
   "source": [
    "grader.score.dw__script_growth(script_growth)"
   ]
  },
  {
   "cell_type": "markdown",
   "metadata": {},
   "source": [
    "## Question 6: rare_scripts\n",
    "\n",
    "Does a practice's prescription costs originate from routine care or from reliance on rarely prescribed treatments? Commonplace treatments can carry lower costs than rare treatments because of efficiencies in large-scale production. While some specialist practices can't help but avoid prescribing rare medicines because there are no alternatives, some practices may be prescribing a unnecessary amount of brand-name products when generics are available. Let's identify practices whose costs disproportionately originate from rarely prescribed items.\n",
    "\n",
    "First we have to identify which `'bnf_code'` are rare. To do this, find the probability $p$ of a prescription having a particular `'bnf_code'` if the `'bnf_code'` was randomly chosen from the unique options in the beneficiary data. We will call a `'bnf_code'` rare if it is prescribed at a rate less than $0.1p$."
   ]
  },
  {
   "cell_type": "code",
   "execution_count": 10,
   "metadata": {},
   "outputs": [],
   "source": [
    "import pandas as pd\n",
    "import numpy as np\n",
    "scripts=pd.read_csv('./dw-data/201701scripts_sample.csv.gz')\n",
    "\n",
    "\n"
   ]
  },
  {
   "cell_type": "code",
   "execution_count": 174,
   "metadata": {
    "scrolled": true
   },
   "outputs": [
    {
     "data": {
      "text/plain": [
       "practice      856\n",
       "bnf_code     1975\n",
       "bnf_name    13471\n",
       "items         743\n",
       "nic         44989\n",
       "act_cost    54048\n",
       "quantity    12361\n",
       "dtype: int64"
      ]
     },
     "execution_count": 174,
     "metadata": {},
     "output_type": "execute_result"
    }
   ],
   "source": [
    "scripts.nunique()"
   ]
  },
  {
   "cell_type": "code",
   "execution_count": 149,
   "metadata": {},
   "outputs": [
    {
     "data": {
      "text/plain": [
       "844"
      ]
     },
     "execution_count": 149,
     "metadata": {},
     "output_type": "execute_result"
    }
   ],
   "source": [
    "#rare_codes.index\n",
    "scripts[['bnf_code','rare']][ scripts['rare']==True]['bnf_code'].nunique()\n",
    "#rates"
   ]
  },
  {
   "cell_type": "code",
   "execution_count": 11,
   "metadata": {},
   "outputs": [],
   "source": [
    "p = (1.0/scripts['bnf_code'].nunique())\n",
    "rates = (scripts['bnf_code'].value_counts()/scripts['bnf_code'].count())\n",
    "rare_codes = rates[rates<0.1*p]\n",
    "#rare_codes.shape\n",
    "scripts['rare'] = scripts['bnf_code'].isin(rare_codes.index)\n",
    "\n"
   ]
  },
  {
   "cell_type": "markdown",
   "metadata": {},
   "source": [
    "Now for each practice, calculate the proportion of costs that originate from prescription of rare treatments (i.e. rare `'bnf_code'`). Use the `'act_cost'` field for this calculation."
   ]
  },
  {
   "cell_type": "code",
   "execution_count": 31,
   "metadata": {},
   "outputs": [
    {
     "data": {
      "text/plain": [
       "practice\n",
       "A81005    0.012017\n",
       "A81007    0.008381\n",
       "A81011    0.005116\n",
       "A81012    0.013747\n",
       "A81017    0.007359\n",
       "            ...   \n",
       "Y05570         NaN\n",
       "Y05583         NaN\n",
       "Y05597         NaN\n",
       "Y05660    0.000323\n",
       "Y05670         NaN\n",
       "Name: act_cost, Length: 856, dtype: float64"
      ]
     },
     "execution_count": 31,
     "metadata": {},
     "output_type": "execute_result"
    }
   ],
   "source": [
    "#scripts[scripts['rare']==True].groupby('practice')['act_cost'].sum()\n",
    "rare_cost_prop = scripts[scripts['rare']].groupby('practice')['act_cost'].sum()/scripts.groupby('practice')['act_cost'].sum()\n",
    "rare_cost_prop\n"
   ]
  },
  {
   "cell_type": "markdown",
   "metadata": {},
   "source": [
    "Now we will calculate a z-score for each practice based on this proportion.\n",
    "First take the difference of `rare_cost_prop` and the proportion of costs originating from rare treatments across all practices."
   ]
  },
  {
   "cell_type": "code",
   "execution_count": 39,
   "metadata": {},
   "outputs": [
    {
     "data": {
      "text/plain": [
       "practice\n",
       "A81005   -0.003946\n",
       "A81007   -0.007582\n",
       "A81011   -0.010847\n",
       "A81012   -0.002216\n",
       "A81017   -0.008604\n",
       "            ...   \n",
       "Y05570         NaN\n",
       "Y05583         NaN\n",
       "Y05597         NaN\n",
       "Y05660   -0.015640\n",
       "Y05670         NaN\n",
       "Name: act_cost, Length: 856, dtype: float64"
      ]
     },
     "execution_count": 39,
     "metadata": {},
     "output_type": "execute_result"
    }
   ],
   "source": [
    "#relative_rare_cost_prop = (rare_cost_prop - scripts[scripts['rare']==True]['act_cost'].sum()/scripts['act_cost'].sum())\n",
    "relative_rare_cost_prop\n"
   ]
  },
  {
   "cell_type": "markdown",
   "metadata": {},
   "source": [
    "Now we will estimate the standard errors (i.e. the denominator of the z-score) by simply taking the standard deviation of this difference."
   ]
  },
  {
   "cell_type": "code",
   "execution_count": 38,
   "metadata": {},
   "outputs": [
    {
     "data": {
      "text/plain": [
       "0.06353378513687823"
      ]
     },
     "execution_count": 38,
     "metadata": {},
     "output_type": "execute_result"
    }
   ],
   "source": [
    "standard_errors = relative_rare_cost_prop.std()\n",
    "\n",
    "standard_errors"
   ]
  },
  {
   "cell_type": "markdown",
   "metadata": {},
   "source": [
    "Finally compute the z-scores. Return the practices with the top 100 z-scores in the form `(practice_code, practice_name, z-score)`. Note that some practice codes will correspond with multiple names. In this case, use the first match when sorting names alphabetically."
   ]
  },
  {
   "cell_type": "code",
   "execution_count": 62,
   "metadata": {},
   "outputs": [],
   "source": [
    "rare_scores = relative_rare_cost_prop/standard_errors"
   ]
  },
  {
   "cell_type": "code",
   "execution_count": 70,
   "metadata": {},
   "outputs": [
    {
     "data": {
      "text/html": [
       "<div>\n",
       "<style scoped>\n",
       "    .dataframe tbody tr th:only-of-type {\n",
       "        vertical-align: middle;\n",
       "    }\n",
       "\n",
       "    .dataframe tbody tr th {\n",
       "        vertical-align: top;\n",
       "    }\n",
       "\n",
       "    .dataframe thead th {\n",
       "        text-align: right;\n",
       "    }\n",
       "</style>\n",
       "<table border=\"1\" class=\"dataframe\">\n",
       "  <thead>\n",
       "    <tr style=\"text-align: right;\">\n",
       "      <th></th>\n",
       "      <th>practice</th>\n",
       "      <th>act_cost</th>\n",
       "    </tr>\n",
       "  </thead>\n",
       "  <tbody>\n",
       "    <tr>\n",
       "      <th>0</th>\n",
       "      <td>A81005</td>\n",
       "      <td>-0.062111</td>\n",
       "    </tr>\n",
       "    <tr>\n",
       "      <th>1</th>\n",
       "      <td>A81007</td>\n",
       "      <td>-0.119342</td>\n",
       "    </tr>\n",
       "    <tr>\n",
       "      <th>2</th>\n",
       "      <td>A81011</td>\n",
       "      <td>-0.170728</td>\n",
       "    </tr>\n",
       "    <tr>\n",
       "      <th>3</th>\n",
       "      <td>A81012</td>\n",
       "      <td>-0.034872</td>\n",
       "    </tr>\n",
       "    <tr>\n",
       "      <th>4</th>\n",
       "      <td>A81017</td>\n",
       "      <td>-0.135420</td>\n",
       "    </tr>\n",
       "    <tr>\n",
       "      <th>...</th>\n",
       "      <td>...</td>\n",
       "      <td>...</td>\n",
       "    </tr>\n",
       "    <tr>\n",
       "      <th>851</th>\n",
       "      <td>Y05570</td>\n",
       "      <td>NaN</td>\n",
       "    </tr>\n",
       "    <tr>\n",
       "      <th>852</th>\n",
       "      <td>Y05583</td>\n",
       "      <td>NaN</td>\n",
       "    </tr>\n",
       "    <tr>\n",
       "      <th>853</th>\n",
       "      <td>Y05597</td>\n",
       "      <td>NaN</td>\n",
       "    </tr>\n",
       "    <tr>\n",
       "      <th>854</th>\n",
       "      <td>Y05660</td>\n",
       "      <td>-0.246167</td>\n",
       "    </tr>\n",
       "    <tr>\n",
       "      <th>855</th>\n",
       "      <td>Y05670</td>\n",
       "      <td>NaN</td>\n",
       "    </tr>\n",
       "  </tbody>\n",
       "</table>\n",
       "<p>856 rows × 2 columns</p>\n",
       "</div>"
      ],
      "text/plain": [
       "    practice  act_cost\n",
       "0     A81005 -0.062111\n",
       "1     A81007 -0.119342\n",
       "2     A81011 -0.170728\n",
       "3     A81012 -0.034872\n",
       "4     A81017 -0.135420\n",
       "..       ...       ...\n",
       "851   Y05570       NaN\n",
       "852   Y05583       NaN\n",
       "853   Y05597       NaN\n",
       "854   Y05660 -0.246167\n",
       "855   Y05670       NaN\n",
       "\n",
       "[856 rows x 2 columns]"
      ]
     },
     "execution_count": 70,
     "metadata": {},
     "output_type": "execute_result"
    }
   ],
   "source": [
    "rare_scores.reset_index()\n",
    "#[rare_scores.index().isin(rare_codes.index())]#.reset_index()\n"
   ]
  },
  {
   "cell_type": "code",
   "execution_count": 55,
   "metadata": {},
   "outputs": [],
   "source": [
    "practice_names=practices.groupby('code')[['name']].first()"
   ]
  },
  {
   "cell_type": "code",
   "execution_count": 78,
   "metadata": {},
   "outputs": [],
   "source": [
    "rare_scores=rare_scores.reset_index().merge(practice_names,left_on='practice',right_on='code',how='left').sort_values('act_cost',ascending=False)"
   ]
  },
  {
   "cell_type": "code",
   "execution_count": 80,
   "metadata": {},
   "outputs": [
    {
     "data": {
      "text/html": [
       "<div>\n",
       "<style scoped>\n",
       "    .dataframe tbody tr th:only-of-type {\n",
       "        vertical-align: middle;\n",
       "    }\n",
       "\n",
       "    .dataframe tbody tr th {\n",
       "        vertical-align: top;\n",
       "    }\n",
       "\n",
       "    .dataframe thead th {\n",
       "        text-align: right;\n",
       "    }\n",
       "</style>\n",
       "<table border=\"1\" class=\"dataframe\">\n",
       "  <thead>\n",
       "    <tr style=\"text-align: right;\">\n",
       "      <th></th>\n",
       "      <th>practice</th>\n",
       "      <th>act_cost</th>\n",
       "      <th>name</th>\n",
       "    </tr>\n",
       "  </thead>\n",
       "  <tbody>\n",
       "    <tr>\n",
       "      <th>765</th>\n",
       "      <td>Y03472</td>\n",
       "      <td>15.488407</td>\n",
       "      <td>CONSULTANT DIABETES TEAM</td>\n",
       "    </tr>\n",
       "    <tr>\n",
       "      <th>831</th>\n",
       "      <td>Y05320</td>\n",
       "      <td>14.408360</td>\n",
       "      <td>DMC COMMUNITY DERMATOLOGY RBWF</td>\n",
       "    </tr>\n",
       "    <tr>\n",
       "      <th>793</th>\n",
       "      <td>Y04404</td>\n",
       "      <td>7.183052</td>\n",
       "      <td>OUTPATIENTS JUBILEE HEALTH CENTRE</td>\n",
       "    </tr>\n",
       "    <tr>\n",
       "      <th>766</th>\n",
       "      <td>Y03484</td>\n",
       "      <td>6.940271</td>\n",
       "      <td>DMC COMMUNITY DERMATOLOGY CLINIC</td>\n",
       "    </tr>\n",
       "    <tr>\n",
       "      <th>794</th>\n",
       "      <td>Y04424</td>\n",
       "      <td>6.513022</td>\n",
       "      <td>DMC HEALTHCARE</td>\n",
       "    </tr>\n",
       "    <tr>\n",
       "      <th>...</th>\n",
       "      <td>...</td>\n",
       "      <td>...</td>\n",
       "      <td>...</td>\n",
       "    </tr>\n",
       "    <tr>\n",
       "      <th>850</th>\n",
       "      <td>Y05566</td>\n",
       "      <td>NaN</td>\n",
       "      <td>HHCIC EAST WIC</td>\n",
       "    </tr>\n",
       "    <tr>\n",
       "      <th>851</th>\n",
       "      <td>Y05570</td>\n",
       "      <td>NaN</td>\n",
       "      <td>OLDHAM 7 DAY ACCESS HUB3 OOH</td>\n",
       "    </tr>\n",
       "    <tr>\n",
       "      <th>852</th>\n",
       "      <td>Y05583</td>\n",
       "      <td>NaN</td>\n",
       "      <td>CYPS - ACORN HOUSE</td>\n",
       "    </tr>\n",
       "    <tr>\n",
       "      <th>853</th>\n",
       "      <td>Y05597</td>\n",
       "      <td>NaN</td>\n",
       "      <td>WORKING AGE ADULTS - ST OWEN STREET</td>\n",
       "    </tr>\n",
       "    <tr>\n",
       "      <th>855</th>\n",
       "      <td>Y05670</td>\n",
       "      <td>NaN</td>\n",
       "      <td>SUNDERLAND NORTH EXTENDED ACCESS</td>\n",
       "    </tr>\n",
       "  </tbody>\n",
       "</table>\n",
       "<p>856 rows × 3 columns</p>\n",
       "</div>"
      ],
      "text/plain": [
       "    practice   act_cost                                 name\n",
       "765   Y03472  15.488407             CONSULTANT DIABETES TEAM\n",
       "831   Y05320  14.408360       DMC COMMUNITY DERMATOLOGY RBWF\n",
       "793   Y04404   7.183052    OUTPATIENTS JUBILEE HEALTH CENTRE\n",
       "766   Y03484   6.940271     DMC COMMUNITY DERMATOLOGY CLINIC\n",
       "794   Y04424   6.513022                       DMC HEALTHCARE\n",
       "..       ...        ...                                  ...\n",
       "850   Y05566        NaN                       HHCIC EAST WIC\n",
       "851   Y05570        NaN         OLDHAM 7 DAY ACCESS HUB3 OOH\n",
       "852   Y05583        NaN                   CYPS - ACORN HOUSE\n",
       "853   Y05597        NaN  WORKING AGE ADULTS - ST OWEN STREET\n",
       "855   Y05670        NaN     SUNDERLAND NORTH EXTENDED ACCESS\n",
       "\n",
       "[856 rows x 3 columns]"
      ]
     },
     "execution_count": 80,
     "metadata": {},
     "output_type": "execute_result"
    }
   ],
   "source": [
    "rare_scores"
   ]
  },
  {
   "cell_type": "code",
   "execution_count": 82,
   "metadata": {},
   "outputs": [
    {
     "data": {
      "text/plain": [
       "[('Y03472', 'CONSULTANT DIABETES TEAM', 15.488406625215609),\n",
       " ('Y05320', 'DMC COMMUNITY DERMATOLOGY RBWF', 14.408360263244049),\n",
       " ('Y04404', 'OUTPATIENTS JUBILEE HEALTH CENTRE', 7.183051624616913),\n",
       " ('Y03484', 'DMC COMMUNITY DERMATOLOGY CLINIC', 6.94027129350587),\n",
       " ('Y04424', 'DMC HEALTHCARE', 6.513021887657125),\n",
       " ('Y00631', 'BINGLEY DERMATOLOGY CLINIC', 5.481949563579427),\n",
       " ('A89038', 'BARMSTON MEDICAL CENTRE', 5.395227692877738),\n",
       " ('Y01696', 'BASSETLAW HOSPICE OF THE GOOD SHEPHERD', 4.086401965874138),\n",
       " ('Y03699', 'OLDHAM DERMATOLOGY SERVICE', 3.9083612233045373),\n",
       " ('Y02045', 'VERNOVA HEALTHCARE CIC', 3.029278875457491),\n",
       " ('Y02823', 'DMC VICARAGE LANE', 2.9087122950668833),\n",
       " ('Y00997', 'COMMUNITY DERMATOLOGY SERVICE', 2.8744326765475274),\n",
       " ('Y05019', 'OLDHAM TOTAL SKIN SERVICE', 2.5950238325625326),\n",
       " ('Y01003', 'BURY OOH', 2.2385300542366964),\n",
       " ('Y05431', 'NOTTS APPLIANCE MANAGEMENT SERVICE', 1.9401676755986765),\n",
       " ('Y03557', 'IPU 10-17 RECOVERY COVENTRY', 1.9337780557880855),\n",
       " ('Y05419', 'WEEKEND WORKING EASINGTON NORTH', 1.9075976453613963),\n",
       " ('Y05434', 'NOTTS APPLIANCE MANAGEMENT SERVICE', 1.5407899736209778),\n",
       " ('L84042', 'LONDON MEDICAL PRACTICE', 1.5276438379006312),\n",
       " ('Y04871', 'LEARNING ASSESSMENT & NEUROCARE BURY', 1.3722198959202228),\n",
       " ('Y05432', 'NOTTS APPLIANCE MANAGEMENT SERVICE', 1.2430603789392323),\n",
       " ('F86057', 'THE WILLOWS PRACTICE', 1.2199688533037305),\n",
       " ('L81673', 'BCH DERMATOLOGY SERVICE', 1.2171032677439781),\n",
       " ('Y04089', \"VIRGINCARE STOCKTON LLP(M'BORO)\", 1.1481868452872808),\n",
       " ('Y03762', 'BASSETLAW HEALTH PARTNERSHIP', 1.0997894858817119),\n",
       " ('Y05430', 'NOTTS APPLIANCE MANAGEMENT SERVICE', 1.0693048779455752),\n",
       " ('B85030', 'SCRIVINGS CLECKHEATON HLTH CTR', 1.0509636815289396),\n",
       " ('P81736', 'WHITEFIELD HEALTHCARE', 1.0418738998166606),\n",
       " ('Y00570', 'TOLWORTH HOSPITAL GP DERM SERV', 1.001496149473522),\n",
       " ('Y04606', 'LANCASTER HOUSE CONTINENCE', 0.9836766439848758),\n",
       " ('P81712', 'DARWEN HEALTH CENTRE', 0.9796583738526915),\n",
       " ('Y05433', 'NOTTS APPLIANCE MANAGEMENT SERVICE', 0.9788666054047578),\n",
       " ('Y02943', 'NEUROLOGY LONG TERM CONDITIONS', 0.9120977204922354),\n",
       " ('P84051', 'EASTLANDS MEDICAL CENTRE', 0.8638524048271157),\n",
       " ('Y02203', 'EASINGTON DERMATOLOGY CLINIC', 0.8410229946306337),\n",
       " ('G82704', 'THE CHURCH VIEW PRACTICE', 0.8274535514990962),\n",
       " ('F81070', 'GRAFTON SURGERY', 0.8063271355343021),\n",
       " ('Y05435', 'NOTTS APPLIANCE MANAGEMENT SERVICE', 0.7852638328907537),\n",
       " ('P82625', 'CHARLOTTE STREET SURGERY', 0.7370021358206574),\n",
       " ('P82640', 'AL FAL MEDICAL GROUP', 0.6846684122334249),\n",
       " ('F84706', 'DR SKS SWEDAN', 0.6845702258326017),\n",
       " ('Y01168', 'COMMUNITY GYNAECOLOGY SERVICE', 0.6479053374582235),\n",
       " ('N81080', 'NORTHGATE MEDICAL CENTRE', 0.6344471769451618),\n",
       " ('A87022', 'NORTHUMBERLAND PARK MEDICAL GROUP', 0.608321308122247),\n",
       " ('B83058', 'THE AVICENNA MEDICAL PRACTICE', 0.5691092133975985),\n",
       " ('M85766', 'BALSALL HEATH HEALTH CENTRE (S)', 0.5363331839982968),\n",
       " ('G81658', 'THE STATION PRACTICE', 0.5078032948927588),\n",
       " ('M85715', 'SOHO ROAD PRIMARY CARE CENTRE', 0.5040299802531903),\n",
       " ('E85659', 'DR RK KUKAR  PARKVIEW CTR FOR H&W', 0.4975828802662012),\n",
       " ('M85716', \"DR KHUROO'S PRACTICE\", 0.48164948680936215),\n",
       " ('B83067', 'THE SPRINGFIELD SURGERY (BINGLEY)', 0.4776065933008361),\n",
       " ('B84011', 'CHURCH LANE SURGERY', 0.4734826845374893),\n",
       " ('B83032', 'BRADFORD MOOR PRACTICE', 0.46152954161610066),\n",
       " ('Y00469', \"DR MA SIMS' PRACTICE\", 0.45789900706039705),\n",
       " ('H81034', 'MADEIRA MEDICAL', 0.45090494444071844),\n",
       " ('A83071', 'THE NEW SEAHAM MEDICAL GROUP', 0.42793824440133227),\n",
       " ('P91633', 'GROVE MEDICAL PRACTICE', 0.39515533386583357),\n",
       " ('P84032', 'DR MOKASHI', 0.3944045133251927),\n",
       " ('F84086', 'DR N DRIVER & PARTNERS', 0.39058291612922563),\n",
       " ('C83041', 'THE WOODLAND MEDICAL PRACTICE', 0.38227931189341297),\n",
       " ('G82162', 'RAINHAM HEALTHY LIVING CENTRE', 0.3751679677645814),\n",
       " ('A83051', 'MARLBOROUGH SURGERY', 0.3598388588558007),\n",
       " ('C84714', 'SUNRISE MEDICAL PRACTICE (GHATTAORA)', 0.34449318211737373),\n",
       " ('B82016', 'EAST PARADE SURGERY', 0.33883171939130746),\n",
       " ('C84691', 'HIGHGREEN PRACTICE (KHAN)', 0.32701379588610124),\n",
       " ('L82001', 'LANDER MEDICAL PRACTICE', 0.316532868503777),\n",
       " ('G84027', 'ELM HOUSE SURGERY', 0.31421268680566483),\n",
       " ('Y02957', 'LEWISHAM GP LED HEALTH CENTRE', 0.30891220082649823),\n",
       " ('G85095', 'MANOR PLACE SURGERY', 0.30321653280864397),\n",
       " ('E82656', 'CASSIO SURGERY - E82656', 0.2951501001725924),\n",
       " ('M91017', 'NORTHGATE MEDICAL CENTRE', 0.29428502248422594),\n",
       " ('L84008', \"ST.GEORGE'S SURGERY\", 0.2886265612090039),\n",
       " ('P81099', 'DR THM MACKENZIE & PARTNERS', 0.285631945522779),\n",
       " ('E85018', \"DR SOOD'S PRACTICE\", 0.2753473776200519),\n",
       " ('Y04951', 'ARDEN HEALTHCARE CENTRE', 0.27500134277938015),\n",
       " ('N82051', 'BREEZE HILL - SSP HEALTH LIMITED', 0.2671151957154904),\n",
       " ('H81097', 'RIVER WEY MEDICAL PRACTICE', 0.26590061639548956),\n",
       " ('C82667', 'THE CHARNWOOD PRACTICE', 0.2573650409799158),\n",
       " ('C87622', 'THE GATE', 0.25377223877616933),\n",
       " ('E85723', 'NORTHOLT FAMILY PRACTICE', 0.2526499868183922),\n",
       " ('C84013', 'BRIDGEGATE AND TALL TREES PARTNERSHIP', 0.25111582834622836),\n",
       " ('E85126', 'GREEN PRACTICE', 0.24972741528173217),\n",
       " ('P92024', 'THE CHANDLER SURGERY', 0.24811237617584683),\n",
       " ('Y01929', 'TRINITY HEALTHCARE PARTNERSHIP', 0.24467104568126455),\n",
       " ('K82078', 'DR ALLAN AND PARTNERS', 0.24129478791599204),\n",
       " ('M85068', 'THE VESEY PRACTICE', 0.2396060051026654),\n",
       " ('G85034', 'PRINCESS STREET GROUP PRACTICE', 0.23601293662536965),\n",
       " ('P88023', 'HEALD GREEN HEALTH CENTRE 2', 0.23063866441284706),\n",
       " ('M83629', 'DRAYTON ROAD SURGERY', 0.22249341073890616),\n",
       " ('M83063', 'NORTON CANES HEALTH CENTRE', 0.22181284015734198),\n",
       " ('H81615', 'FARNHAM DENE MEDICAL PRACTICE', 0.22135727440927194),\n",
       " ('D81024', 'THOMAS WALKER', 0.21348194803802323),\n",
       " ('K83051', 'WEAVERS MEDICAL', 0.211440318812327),\n",
       " ('G85134', 'THE LISTER PRIMARY CARE CENTRE', 0.20771800046403371),\n",
       " ('Y00278', 'DARLASTON HEALTH CENTRE-KHAN', 0.20217653177218228),\n",
       " ('Y02671', 'THE PRACTICE HEART OF HOUNSLOW', 0.19886723545681048),\n",
       " ('F84631', 'DR PI ABIOLA', 0.19561198346329434),\n",
       " ('B81012', 'DR AP KUMAR', 0.19399271110094568),\n",
       " ('C83613', 'CAISTOR HEALTH CENTRE', 0.1938114176223193),\n",
       " ('M91614', 'STROUD PRACTICE', 0.19095905723975837)]"
      ]
     },
     "execution_count": 82,
     "metadata": {},
     "output_type": "execute_result"
    }
   ],
   "source": [
    "rare_scripts"
   ]
  },
  {
   "cell_type": "code",
   "execution_count": 81,
   "metadata": {},
   "outputs": [],
   "source": [
    "rare_scripts = [(i[1],i[3],i[2]) for i in rare_scores.itertuples()][:100]\n",
    "\n"
   ]
  },
  {
   "cell_type": "code",
   "execution_count": 83,
   "metadata": {},
   "outputs": [
    {
     "name": "stdout",
     "output_type": "stream",
     "text": [
      "==================\n",
      "Your score: 0.930\n",
      "==================\n"
     ]
    }
   ],
   "source": [
    "grader.score.dw__rare_scripts(rare_scripts)"
   ]
  },
  {
   "cell_type": "markdown",
   "metadata": {},
   "source": [
    "*Copyright &copy; 2021 WorldQuant University. This content is licensed solely for personal use. Redistribution or publication of this material is strictly prohibited.*"
   ]
  }
 ],
 "metadata": {
  "kernelspec": {
   "display_name": "Python 3",
   "language": "python",
   "name": "python3"
  },
  "language_info": {
   "codemirror_mode": {
    "name": "ipython",
    "version": 3
   },
   "file_extension": ".py",
   "mimetype": "text/x-python",
   "name": "python",
   "nbconvert_exporter": "python",
   "pygments_lexer": "ipython3",
   "version": "3.8.8"
  },
  "nbclean": true
 },
 "nbformat": 4,
 "nbformat_minor": 1
}
